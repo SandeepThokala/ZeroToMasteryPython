{
 "cells": [
  {
   "cell_type": "markdown",
   "metadata": {},
   "source": [
    "Write a program that accepts a sentence and calculate the number of upper case letters and lower case letters.\n",
    "\n"
   ]
  },
  {
   "cell_type": "code",
   "execution_count": 15,
   "metadata": {},
   "outputs": [
    {
     "name": "stdout",
     "output_type": "stream",
     "text": [
      "Enter a sentence: Hey divanna mei DIVANNAAA salamey CHEYNHAA.!!!!\n",
      "Total: 42\n",
      "Upper: 18\n",
      "Lower: 19\n"
     ]
    }
   ],
   "source": [
    "s = [i[j] for i in input('Enter a sentence: ').split() for j in range(len(i))]\n",
    "#print([s[i].isupper() for i in range(len(s))].count(True))\n",
    "print(f'Total: {len(s)}\\nUpper: {[s[i].isupper() for i in range(len(s))].count(True)}\\nLower: {[s[i].islower() for i in range(len(s))].count(True)}')"
   ]
  },
  {
   "cell_type": "markdown",
   "metadata": {},
   "source": [
    "Write a program that computes the value of a+aa+aaa+aaaa with a given digit as the value of a.\n",
    "\n"
   ]
  },
  {
   "cell_type": "code",
   "execution_count": 30,
   "metadata": {},
   "outputs": [
    {
     "name": "stdout",
     "output_type": "stream",
     "text": [
      "Enter a digit: 23\n",
      "23466992\n"
     ]
    }
   ],
   "source": [
    "a = input('Enter a digit: ')\n",
    "print(sum([int(a*i) for i in range(1,5)]))"
   ]
  },
  {
   "cell_type": "markdown",
   "metadata": {},
   "source": [
    "Use a list comprehension to square each odd number in a list. The list is input by a sequence of comma-separated numbers. "
   ]
  },
  {
   "cell_type": "code",
   "execution_count": 33,
   "metadata": {},
   "outputs": [
    {
     "name": "stdout",
     "output_type": "stream",
     "text": [
      "Enter a seq: 1, 41, 27, 24, 8, 54, 95, 4, 105\n",
      "1, 1681, 729, 9025, 11025\n"
     ]
    }
   ],
   "source": [
    "print(*(int(i)**2 for i in input('Enter a seq: ').split(',') if (int(i) % 2)), sep = ', ')"
   ]
  },
  {
   "cell_type": "markdown",
   "metadata": {},
   "source": [
    "Write a program that computes the net amount of a bank account based a transaction log from console input. The transaction log format is shown as following:\n",
    "\n"
   ]
  },
  {
   "cell_type": "code",
   "execution_count": 1,
   "metadata": {},
   "outputs": [
    {
     "name": "stdout",
     "output_type": "stream",
     "text": [
      "Choose and enter one in (D,W) and enter X when done: D\n",
      "D: 500\n",
      "Choose and enter one in (D,W) and enter X when done: D\n",
      "D: 500\n",
      "Choose and enter one in (D,W) and enter X when done: D\n",
      "D: 12545\n",
      "Choose and enter one in (D,W) and enter X when done: W\n",
      "W: 1500\n",
      "Choose and enter one in (D,W) and enter X when done: W\n",
      "W: 2500\n",
      "Choose and enter one in (D,W) and enter X when done: D\n",
      "D: 25000\n",
      "Choose and enter one in (D,W) and enter X when done: \n",
      "\n",
      "\n",
      "\t\tBalance :34545\n"
     ]
    }
   ],
   "source": [
    "d, w = [], []\n",
    "while True:\n",
    "    c = input('Choose and enter one in (D,W) and enter X when done: ')\n",
    "    if c == 'D':\n",
    "        d.append(int(input('D: ')))\n",
    "        continue\n",
    "    elif c == 'W':\n",
    "        w.append(int(input('W: ')))\n",
    "        continue\n",
    "    else:\n",
    "        break\n",
    "print(f'\\n\\n\\t\\tBalance :{sum(d) - sum(w)}')"
   ]
  },
  {
   "cell_type": "code",
   "execution_count": null,
   "metadata": {},
   "outputs": [],
   "source": []
  }
 ],
 "metadata": {
  "kernelspec": {
   "display_name": "Python 3",
   "language": "python",
   "name": "python3"
  },
  "language_info": {
   "codemirror_mode": {
    "name": "ipython",
    "version": 3
   },
   "file_extension": ".py",
   "mimetype": "text/x-python",
   "name": "python",
   "nbconvert_exporter": "python",
   "pygments_lexer": "ipython3",
   "version": "3.7.6"
  }
 },
 "nbformat": 4,
 "nbformat_minor": 4
}
