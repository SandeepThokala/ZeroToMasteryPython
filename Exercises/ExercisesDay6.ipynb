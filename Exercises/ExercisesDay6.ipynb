{
 "cells": [
  {
   "cell_type": "markdown",
   "metadata": {},
   "source": [
    "Define a class with a generator which can iterate the numbers, which are divisible by 7, between a given range 0 and n.\n",
    "\n"
   ]
  },
  {
   "cell_type": "code",
   "execution_count": 4,
   "metadata": {},
   "outputs": [
    {
     "name": "stdout",
     "output_type": "stream",
     "text": [
      "0, 7, 14, 21, 28, 35, 42, 49, 56, 63, 70, 77, 84\n"
     ]
    }
   ],
   "source": [
    "class Factor7():\n",
    "    def generate_factors(n):\n",
    "        for i in range(n+1):\n",
    "            if not i%7:\n",
    "                yield i\n",
    "            \n",
    "print(*(Factor7.generate_factors(90)), sep = ', ')"
   ]
  },
  {
   "cell_type": "markdown",
   "metadata": {},
   "source": [
    "A robot moves in a plane starting from the original point (0,0). The robot can move toward UP, DOWN, LEFT and RIGHT with a given steps. The trace of robot movement is shown as the following:\n",
    "\n",
    "UP 5 \n",
    "DOWN 3 \n",
    "LEFT 3 \n",
    "RIGHT 2 \n",
    "\n",
    "The numbers after the direction are steps. Please write a program to compute the distance from current position after a sequence of movement and original point. If the distance is a float, then just print the nearest integer."
   ]
  },
  {
   "cell_type": "code",
   "execution_count": 4,
   "metadata": {},
   "outputs": [
    {
     "name": "stdout",
     "output_type": "stream",
     "text": [
      "Enter a tuple: UP 5\n",
      "Enter a tuple: DOWN 3\n",
      "Enter a tuple: LEFT 3\n",
      "Enter a tuple: RIGHT 2\n",
      "Enter a tuple: \n",
      "distance is:  2\n"
     ]
    }
   ],
   "source": [
    "import math\n",
    "x, y = 0, 0\n",
    "while 1:\n",
    "    tuple_in = tuple(input('Enter a tuple: ').split(' '))\n",
    "    if tuple_in[0] == 'UP':\n",
    "        y += int(tuple_in[1])\n",
    "        continue\n",
    "    elif tuple_in[0] == 'DOWN':\n",
    "        y -= int(tuple_in[1])\n",
    "        continue\n",
    "    elif tuple_in[0] == 'RIGHT':\n",
    "        x += int(tuple_in[1])\n",
    "        continue\n",
    "    elif tuple_in[0] == 'LEFT':\n",
    "        x -= int(tuple_in[1])\n",
    "        continue\n",
    "    else:\n",
    "        break\n",
    "\n",
    "distance = round(math.sqrt(x**2 + y**2) )\n",
    "print('distance is: ', distance)"
   ]
  },
  {
   "cell_type": "markdown",
   "metadata": {},
   "source": [
    "Write a program to compute the frequency of the words from the input. The output should output after sorting the key alphanumerically.\n"
   ]
  },
  {
   "cell_type": "code",
   "execution_count": 26,
   "metadata": {
    "scrolled": false
   },
   "outputs": [
    {
     "name": "stdout",
     "output_type": "stream",
     "text": [
      "Enter a sentence: i was broken from a young age writing my sulking to the masses writing my poems for the few that look at me shook at me feeling me singing from heart ache from the pain speaking the lesson from the brain seeing the beauty through the pain\n",
      "a: 1\n",
      "ache: 1\n",
      "age: 1\n",
      "at: 2\n",
      "beauty: 1\n",
      "brain: 1\n",
      "broken: 1\n",
      "feeling: 1\n",
      "few: 1\n",
      "for: 1\n",
      "from: 4\n",
      "heart: 1\n",
      "i: 1\n",
      "lesson: 1\n",
      "look: 1\n",
      "masses: 1\n",
      "me: 3\n",
      "my: 2\n",
      "pain: 2\n",
      "poems: 1\n",
      "seeing: 1\n",
      "shook: 1\n",
      "singing: 1\n",
      "speaking: 1\n",
      "sulking: 1\n",
      "that: 1\n",
      "the: 7\n",
      "through: 1\n",
      "to: 1\n",
      "was: 1\n",
      "writing: 2\n",
      "young: 1\n"
     ]
    }
   ],
   "source": [
    "string = input('Enter a sentence: ').split(' ')\n",
    "listed = [f'{i}: {string.count(i)}' for i in string]\n",
    "x = sorted(list(set(listed)))\n",
    "print(*(i for i in x) , sep = '\\n')\n"
   ]
  }
 ],
 "metadata": {
  "kernelspec": {
   "display_name": "Python 3",
   "language": "python",
   "name": "python3"
  },
  "language_info": {
   "codemirror_mode": {
    "name": "ipython",
    "version": 3
   },
   "file_extension": ".py",
   "mimetype": "text/x-python",
   "name": "python",
   "nbconvert_exporter": "python",
   "pygments_lexer": "ipython3",
   "version": "3.7.6"
  }
 },
 "nbformat": 4,
 "nbformat_minor": 4
}
