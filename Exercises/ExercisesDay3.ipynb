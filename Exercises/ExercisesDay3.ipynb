{
 "cells": [
  {
   "cell_type": "markdown",
   "metadata": {},
   "source": [
    "Write a program which takes 2 digits, X,Y as input and generates a 2-dimensional array. The element value in the i-th row and j-th column of the array should be i _ j.*"
   ]
  },
  {
   "cell_type": "code",
   "execution_count": 9,
   "metadata": {},
   "outputs": [
    {
     "name": "stdout",
     "output_type": "stream",
     "text": [
      "Enter 2 numbers(seperated with a comma): 3,5\n",
      "[[0, 0, 0, 0, 0], [0, 1, 2, 3, 4], [0, 2, 4, 6, 8]]\n"
     ]
    }
   ],
   "source": [
    "x, y = map(int,input('Enter 2 numbers(seperated with a comma): ').split(','))\n",
    "print([[i*j for i in range(y)] for j in range (x)])"
   ]
  },
  {
   "cell_type": "markdown",
   "metadata": {},
   "source": [
    "Write a program that accepts a comma separated sequence of words as input and prints the words in a comma-separated sequence after sorting them alphabetically.\n"
   ]
  },
  {
   "cell_type": "code",
   "execution_count": 25,
   "metadata": {},
   "outputs": [
    {
     "name": "stdout",
     "output_type": "stream",
     "text": [
      "Enter a comma seperated sequence of words: amaterasu, amruth, ball, zone, python, sql, db\n",
      "['amaterasu', 'amruth', 'ball', 'zone', 'python', 'sql', 'db']\n",
      "amaterasu, amruth, ball, db, python, sql, zone\n"
     ]
    }
   ],
   "source": [
    "a = input('Enter a comma seperated sequence of words: ').split(', ')\n",
    "print(a)\n",
    "print(', '.join(sorted(a)))"
   ]
  },
  {
   "cell_type": "markdown",
   "metadata": {},
   "source": [
    "Write a program that accepts sequence of lines as input and prints the lines after making all characters in the sentence capitalized.\n"
   ]
  },
  {
   "cell_type": "code",
   "execution_count": 18,
   "metadata": {},
   "outputs": [
    {
     "name": "stdout",
     "output_type": "stream",
     "text": [
      "Enter some lines and then enter 'done' or nothing: hi\n",
      "Enter some lines and then enter 'done' or nothing: hello\n",
      "Enter some lines and then enter 'done' or nothing: \n",
      "HI\n",
      "HELLO\n"
     ]
    }
   ],
   "source": [
    "x = []\n",
    "while True:\n",
    "    x.append(input('Enter some lines and then enter \\'done\\' or nothing: '))\n",
    "    if x[-1] == 'done' or len(x[-1]) == 0:\n",
    "        print('\\n'.join(x[0:-1]).upper())\n",
    "        break"
   ]
  },
  {
   "cell_type": "code",
   "execution_count": 16,
   "metadata": {},
   "outputs": [
    {
     "name": "stdout",
     "output_type": "stream",
     "text": [
      "san\n",
      "deep\n",
      "thok\n",
      "ala\n",
      "\n",
      "SAN\n",
      "DEEP\n",
      "THOK\n",
      "ALA\n"
     ]
    }
   ],
   "source": [
    "#so coool..!\n",
    "def gen():\n",
    "    while True:\n",
    "        x = input()\n",
    "        if len(x) == 0:\n",
    "            return\n",
    "        yield x.upper()\n",
    "print(*(line for line in gen()), sep = '\\n')"
   ]
  },
  {
   "cell_type": "markdown",
   "metadata": {},
   "source": [
    "Write a program that accepts a sequence of whitespace separated words as input and prints the words after removing all duplicate words and sorting them alphanumerically\n"
   ]
  },
  {
   "cell_type": "code",
   "execution_count": 21,
   "metadata": {},
   "outputs": [
    {
     "name": "stdout",
     "output_type": "stream",
     "text": [
      "Enter a sentence or words seperated by white spaces: m416 M416 scarl scarl deepu.stark naruto 1-2-3-nenoka-kanthri 1-nenokkadine 300bc\n",
      "['1-2-3-nenoka-kanthri', '1-nenokkadine', '300bc', 'M416', 'deepu.stark', 'm416', 'naruto', 'scarl']\n"
     ]
    }
   ],
   "source": [
    "x = input('Enter a sentence or words seperated by white spaces: ').split()\n",
    "print(sorted(set(x)))"
   ]
  },
  {
   "cell_type": "markdown",
   "metadata": {},
   "source": [
    "Write a program which accepts a sequence of comma separated 4 digit binary numbers as its input and then check whether they are divisible by 5 or not. The numbers that are divisible by 5 are to be printed in a comma separated sequence."
   ]
  },
  {
   "cell_type": "code",
   "execution_count": 39,
   "metadata": {},
   "outputs": [
    {
     "name": "stdout",
     "output_type": "stream",
     "text": [
      "Enter 4 didgit binary numbers: 0101, 1010, 1100, 1110, 0001, 1111\n",
      "[5, 10, 15]\n"
     ]
    }
   ],
   "source": [
    "b = [int(i,2) for i in (input('Enter 4 didgit binary numbers: ').split(', ')) if not(int(i,2)%5)]\n",
    "print(b)"
   ]
  },
  {
   "cell_type": "markdown",
   "metadata": {},
   "source": [
    "Write a program, which will find all such numbers between 1000 and 3000 (both included) such that each digit of the number is an even number.The numbers obtained should be printed in a comma-separated sequence on a single line.\n",
    "\n"
   ]
  },
  {
   "cell_type": "code",
   "execution_count": 42,
   "metadata": {},
   "outputs": [
    {
     "name": "stdout",
     "output_type": "stream",
     "text": [
      "2000, 2002, 2004, 2006, 2008, 2020, 2022, 2024, 2026, 2028, 2040, 2042, 2044, 2046, 2048, 2060, 2062, 2064, 2066, 2068, 2080, 2082, 2084, 2086, 2088, 2200, 2202, 2204, 2206, 2208, 2220, 2222, 2224, 2226, 2228, 2240, 2242, 2244, 2246, 2248, 2260, 2262, 2264, 2266, 2268, 2280, 2282, 2284, 2286, 2288, 2400, 2402, 2404, 2406, 2408, 2420, 2422, 2424, 2426, 2428, 2440, 2442, 2444, 2446, 2448, 2460, 2462, 2464, 2466, 2468, 2480, 2482, 2484, 2486, 2488, 2600, 2602, 2604, 2606, 2608, 2620, 2622, 2624, 2626, 2628, 2640, 2642, 2644, 2646, 2648, 2660, 2662, 2664, 2666, 2668, 2680, 2682, 2684, 2686, 2688, 2800, 2802, 2804, 2806, 2808, 2820, 2822, 2824, 2826, 2828, 2840, 2842, 2844, 2846, 2848, 2860, 2862, 2864, 2866, 2868, 2880, 2882, 2884, 2886, 2888\n"
     ]
    }
   ],
   "source": [
    "print(*(i for i in range(1000, 3001) if (not(i%2) and not((i//10)%2) and not(i//100)%2) and not((i//1000)%2)), sep = ', ')"
   ]
  },
  {
   "cell_type": "code",
   "execution_count": 45,
   "metadata": {},
   "outputs": [
    {
     "name": "stdout",
     "output_type": "stream",
     "text": [
      "2000, 2002, 2004, 2006, 2008, 2020, 2022, 2024, 2026, 2028, 2040, 2042, 2044, 2046, 2048, 2060, 2062, 2064, 2066, 2068, 2080, 2082, 2084, 2086, 2088, 2200, 2202, 2204, 2206, 2208, 2220, 2222, 2224, 2226, 2228, 2240, 2242, 2244, 2246, 2248, 2260, 2262, 2264, 2266, 2268, 2280, 2282, 2284, 2286, 2288, 2400, 2402, 2404, 2406, 2408, 2420, 2422, 2424, 2426, 2428, 2440, 2442, 2444, 2446, 2448, 2460, 2462, 2464, 2466, 2468, 2480, 2482, 2484, 2486, 2488, 2600, 2602, 2604, 2606, 2608, 2620, 2622, 2624, 2626, 2628, 2640, 2642, 2644, 2646, 2648, 2660, 2662, 2664, 2666, 2668, 2680, 2682, 2684, 2686, 2688, 2800, 2802, 2804, 2806, 2808, 2820, 2822, 2824, 2826, 2828, 2840, 2842, 2844, 2846, 2848, 2860, 2862, 2864, 2866, 2868, 2880, 2882, 2884, 2886, 2888\n"
     ]
    }
   ],
   "source": [
    "#so coooll..!!!\n",
    "print(', '.join([str(num) for num in range(1000, 3001) if all(map(lambda x: int(x) % 2 == 0, str(num)))]))"
   ]
  },
  {
   "cell_type": "markdown",
   "metadata": {},
   "source": [
    "Write a program that accepts a sentence and calculate the number of letters and digits."
   ]
  },
  {
   "cell_type": "code",
   "execution_count": 57,
   "metadata": {},
   "outputs": [
    {
     "name": "stdout",
     "output_type": "stream",
     "text": [
      "Enter an alpha-numeric sentence: asiuyf98 uiyesf 9awef9 a98wefu aw9e8fy odhf987 9p\n",
      "['p', 'p', 'p', 'p', 'p', 'p', 'p']\n"
     ]
    }
   ],
   "source": [
    "'''attempt :\n",
    "l = [j for j in i for i in input('Enter an alpha-numeric sentence: ').split()]\n",
    "print(f'Digits: {count(l.isnumeric())}\\nLetters: {count(l.isalpha())}')'''"
   ]
  },
  {
   "cell_type": "code",
   "execution_count": 72,
   "metadata": {},
   "outputs": [
    {
     "name": "stdout",
     "output_type": "stream",
     "text": [
      "Enter an alpha-numeric sentence: asiuyf98 uiyesf 9awef9 a98wefu aw9e8fy odhf987 9p\n",
      "Letters: 31\n",
      "Digits: 12\n"
     ]
    }
   ],
   "source": [
    "l = [i[j] for i in input('Enter an alpha-numeric sentence: ').split() for j in range(len(i))]\n",
    "print(f'Letters: {[i.isalpha() for i in l].count(True)}\\nDigits: {[i.isalpha() for i in l].count(False)}')"
   ]
  },
  {
   "cell_type": "code",
   "execution_count": null,
   "metadata": {},
   "outputs": [],
   "source": []
  }
 ],
 "metadata": {
  "kernelspec": {
   "display_name": "Python 3",
   "language": "python",
   "name": "python3"
  },
  "language_info": {
   "codemirror_mode": {
    "name": "ipython",
    "version": 3
   },
   "file_extension": ".py",
   "mimetype": "text/x-python",
   "name": "python",
   "nbconvert_exporter": "python",
   "pygments_lexer": "ipython3",
   "version": "3.7.6"
  }
 },
 "nbformat": 4,
 "nbformat_minor": 4
}
