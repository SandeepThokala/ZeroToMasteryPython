{
 "cells": [
  {
   "cell_type": "markdown",
   "metadata": {},
   "source": [
    "Write a function to compute 5/0 and use try/except to catch the exceptions.\n",
    "\n"
   ]
  },
  {
   "cell_type": "code",
   "execution_count": 3,
   "metadata": {},
   "outputs": [
    {
     "name": "stdout",
     "output_type": "stream",
     "text": [
      "denominator cant be zero..!!\n"
     ]
    }
   ],
   "source": [
    "def divi(x, y):\n",
    "    try:\n",
    "        return x/y\n",
    "    except ZeroDivisionError as err:\n",
    "        print('denominator cant be zero..!!')\n",
    " \n",
    "divi(5, 0)"
   ]
  },
  {
   "cell_type": "markdown",
   "metadata": {},
   "source": [
    "Assuming that we have some email addresses in the \"username@companyname.com\" format, please write program to print the user name of a given email address. Both user names and company names are composed of letters only."
   ]
  },
  {
   "cell_type": "code",
   "execution_count": 10,
   "metadata": {},
   "outputs": [
    {
     "name": "stdout",
     "output_type": "stream",
     "text": [
      "['john', 'elise', 'deepu']\n"
     ]
    }
   ],
   "source": [
    "import re\n",
    "emails = \"john@google.com elise@python.com deepu@yahoo.com\"\n",
    "pattern = \"(\\w+)@\\w+.com\"\n",
    "ans = re.findall(pattern,emails)\n",
    "print(ans)"
   ]
  },
  {
   "cell_type": "markdown",
   "metadata": {},
   "source": [
    "Assuming that we have some email addresses in the \"username@companyname.com\" format, please write program to print the company name of a given email address. Both user names and company names are composed of letters only."
   ]
  },
  {
   "cell_type": "code",
   "execution_count": 14,
   "metadata": {},
   "outputs": [
    {
     "name": "stdout",
     "output_type": "stream",
     "text": [
      "['google', 'python', 'yahoo']\n"
     ]
    }
   ],
   "source": [
    "emails = \"john@google.com elise@python.com deepu@yahoo.com\"\n",
    "print(re.findall(\"\\w+@(\\w+).com\", emails))"
   ]
  },
  {
   "cell_type": "markdown",
   "metadata": {},
   "source": [
    "Write a program to compute 1/2+2/3+3/4+...+n/n+1 with a given n input by console (n>0).\n",
    "\n"
   ]
  },
  {
   "cell_type": "code",
   "execution_count": 36,
   "metadata": {},
   "outputs": [
    {
     "name": "stdout",
     "output_type": "stream",
     "text": [
      "Enter a number: 5\n"
     ]
    },
    {
     "data": {
      "text/plain": [
       "3.55"
      ]
     },
     "execution_count": 36,
     "metadata": {},
     "output_type": "execute_result"
    }
   ],
   "source": [
    "from functools import reduce\n",
    "round(reduce(lambda x, y: x + y, [i/(i + 1) for i in range(int(input('Enter a number: ')) + 1)], 0), 2)"
   ]
  }
 ],
 "metadata": {
  "kernelspec": {
   "display_name": "Python 3",
   "language": "python",
   "name": "python3"
  },
  "language_info": {
   "codemirror_mode": {
    "name": "ipython",
    "version": 3
   },
   "file_extension": ".py",
   "mimetype": "text/x-python",
   "name": "python",
   "nbconvert_exporter": "python",
   "pygments_lexer": "ipython3",
   "version": "3.7.6"
  }
 },
 "nbformat": 4,
 "nbformat_minor": 4
}
