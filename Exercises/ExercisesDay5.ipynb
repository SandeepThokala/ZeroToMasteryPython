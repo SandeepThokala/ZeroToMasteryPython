{
 "cells": [
  {
   "cell_type": "markdown",
   "metadata": {},
   "source": [
    "A website requires the users to input username and password to register. Write a program to check the validity of password input by users.\n",
    "\n",
    "Following are the criteria for checking the password:\n",
    "\n",
    "* At least 1 letter between [a-z]\n",
    "* At least 1 number between [0-9]\n",
    "* At least 1 letter between [A-Z]\n",
    "* At least 1 character from [$#@]\n",
    "* Minimum length of transaction password: 6\n",
    "* Maximum length of transaction password: 12"
   ]
  },
  {
   "cell_type": "code",
   "execution_count": 2,
   "metadata": {},
   "outputs": [
    {
     "name": "stdout",
     "output_type": "stream",
     "text": [
      "Enter Password: hhh\n",
      "Password not according to policy.\n",
      "Enter Password: $3w$3W\n",
      "Good password.\n"
     ]
    }
   ],
   "source": [
    "import re\n",
    "p = re.compile(r'^(?=.*[0-9])(?=.*[a-z])(?=.*[A-Z])(?=.*[$#@]).{6,12}$')\n",
    "while 1:\n",
    "    pw = input('Enter Password: ')\n",
    "    if p.fullmatch(pw):\n",
    "        print('Good password.')\n",
    "        break\n",
    "    else: \n",
    "        print('Password not according to policy.')\n",
    "        continue\n",
    "        "
   ]
  },
  {
   "cell_type": "markdown",
   "metadata": {},
   "source": [
    "You are required to write a program to sort the (name, age, score) tuples by ascending order where name is string, age and score are numbers. The tuples are input by console. The sort criteria is:\n",
    "\n",
    "* 1: Sort based on name\n",
    "* 2: Then sort based on age\n",
    "* 3: Then sort by score\n",
    "\n",
    "The priority is that name > age > score."
   ]
  },
  {
   "cell_type": "code",
   "execution_count": 16,
   "metadata": {},
   "outputs": [
    {
     "name": "stdout",
     "output_type": "stream",
     "text": [
      "Enter tuples and x when done: 'Kabuto', 29, 29\n",
      "Enter tuples and x when done: 'Goku', 37, 46\n",
      "Enter tuples and x when done: 'Goku', 37, 45\n",
      "Enter tuples and x when done: 'Sandy', 75, 23\n",
      "Enter tuples and x when done: 'Sandy', 95, 23\n",
      "Enter tuples and x when done: x\n",
      "[(\"'Goku'\", '37', '45'), (\"'Goku'\", '37', '46'), (\"'Kabuto'\", '29', '29'), (\"'Sandy'\", '75', '23'), (\"'Sandy'\", '95', '23')]\n"
     ]
    }
   ],
   "source": [
    "l = []\n",
    "while 1:\n",
    "    i = input('Enter tuples and x when done: ')\n",
    "    if i != 'x':\n",
    "        l.append(tuple(i.split(', ')))\n",
    "        continue\n",
    "    else:\n",
    "        break\n",
    "\n",
    "l.sort( key = lambda x: (x[0], int(x[1]), int(x[2]))) \n",
    "print(l)"
   ]
  },
  {
   "cell_type": "markdown",
   "metadata": {},
   "source": [
    "'Sandy', 75, 23\n",
    "'Goku', 37, 46\n",
    "'Kabuto', 29, 29"
   ]
  },
  {
   "cell_type": "code",
   "execution_count": null,
   "metadata": {},
   "outputs": [],
   "source": []
  }
 ],
 "metadata": {
  "kernelspec": {
   "display_name": "Python 3",
   "language": "python",
   "name": "python3"
  },
  "language_info": {
   "codemirror_mode": {
    "name": "ipython",
    "version": 3
   },
   "file_extension": ".py",
   "mimetype": "text/x-python",
   "name": "python",
   "nbconvert_exporter": "python",
   "pygments_lexer": "ipython3",
   "version": "3.7.6"
  }
 },
 "nbformat": 4,
 "nbformat_minor": 4
}
