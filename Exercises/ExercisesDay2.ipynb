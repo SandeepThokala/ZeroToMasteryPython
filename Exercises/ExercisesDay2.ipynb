{
 "cells": [
  {
   "cell_type": "markdown",
   "metadata": {},
   "source": [
    "Write a program which accepts a sequence of comma-separated numbers from console and generate a list and a tuple which contains every number\n",
    "\n"
   ]
  },
  {
   "cell_type": "code",
   "execution_count": 6,
   "metadata": {},
   "outputs": [
    {
     "name": "stdout",
     "output_type": "stream",
     "text": [
      "Enter numbers: 85, 7, 66, 75,43\n",
      "['85', ' 7', ' 66', ' 75', '43'] \n",
      " ('85', ' 7', ' 66', ' 75', '43')\n"
     ]
    }
   ],
   "source": [
    "l = input('Enter numbers: ').split(',')\n",
    "t = tuple(l)\n",
    "print(l, '\\n', t)"
   ]
  },
  {
   "cell_type": "markdown",
   "metadata": {},
   "source": [
    "Define a class which has at least two methods:\n",
    "\n",
    "getString: to get a string from console input\n",
    "printString: to print the string in upper case.\n",
    "\n"
   ]
  },
  {
   "cell_type": "code",
   "execution_count": 34,
   "metadata": {},
   "outputs": [
    {
     "name": "stdout",
     "output_type": "stream",
     "text": [
      "Enter a strng: hola amigoo..!!, arigatou saimasu\n",
      "HOLA AMIGOO..!!, ARIGATOU SAIMASU\n"
     ]
    }
   ],
   "source": [
    "class Yo(str):  #no need for inhritance\n",
    "    def getString(self):\n",
    "        self.strg = input('Enter a strng: ')\n",
    "        #return self.strg\n",
    "    def printString(self):\n",
    "        print(self.strg.upper())\n",
    "        \n",
    "y = Yo()\n",
    "y.getString()\n",
    "y.printString()"
   ]
  },
  {
   "cell_type": "markdown",
   "metadata": {},
   "source": [
    "Write a program that calculates and prints the value according to the given formula:\n",
    "\n",
    "Q = Square root of [(2 _ C _ D)/H]\n",
    "\n",
    "Following are the fixed values of C and H:\n",
    "\n",
    "C is 50. H is 30.\n",
    "\n",
    "\n",
    "D is the variable whose values should be input to your program in a comma-separated sequence."
   ]
  },
  {
   "cell_type": "code",
   "execution_count": 46,
   "metadata": {},
   "outputs": [
    {
     "name": "stdout",
     "output_type": "stream",
     "text": [
      "Enter a comma seperated sequence of numbers: 100, 150, 180\n",
      "18 22 24\n"
     ]
    }
   ],
   "source": [
    "import math as m\n",
    "D = input('Enter a comma seperated sequence of numbers: ').split(',')\n",
    "print(*(round(m.sqrt(2*50*int(i)/30)) for i in D))"
   ]
  }
 ],
 "metadata": {
  "kernelspec": {
   "display_name": "Python 3",
   "language": "python",
   "name": "python3"
  },
  "language_info": {
   "codemirror_mode": {
    "name": "ipython",
    "version": 3
   },
   "file_extension": ".py",
   "mimetype": "text/x-python",
   "name": "python",
   "nbconvert_exporter": "python",
   "pygments_lexer": "ipython3",
   "version": "3.7.6"
  }
 },
 "nbformat": 4,
 "nbformat_minor": 4
}
