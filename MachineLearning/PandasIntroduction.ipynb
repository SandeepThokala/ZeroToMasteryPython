{
 "cells": [
  {
   "cell_type": "code",
   "execution_count": 3,
   "id": "ceramic-terrorist",
   "metadata": {},
   "outputs": [],
   "source": [
    "import pandas as pd"
   ]
  },
  {
   "cell_type": "markdown",
   "id": "velvet-empty",
   "metadata": {},
   "source": [
    "### 2 main datatypes"
   ]
  },
  {
   "cell_type": "code",
   "execution_count": 4,
   "id": "latin-brooks",
   "metadata": {},
   "outputs": [
    {
     "data": {
      "text/plain": [
       "0       BMW\n",
       "1    Toyota\n",
       "2     Honda\n",
       "dtype: object"
      ]
     },
     "execution_count": 4,
     "metadata": {},
     "output_type": "execute_result"
    }
   ],
   "source": [
    "car_brands = pd.Series(['BMW', 'Toyota', 'Honda'])\n",
    "car_brands"
   ]
  },
  {
   "cell_type": "markdown",
   "id": "acknowledged-charter",
   "metadata": {},
   "source": [
    "##### series = 1-dimentional"
   ]
  },
  {
   "cell_type": "code",
   "execution_count": 5,
   "id": "operational-engineering",
   "metadata": {},
   "outputs": [
    {
     "data": {
      "text/plain": [
       "0      Red\n",
       "1     Blue\n",
       "2    Black\n",
       "dtype: object"
      ]
     },
     "execution_count": 5,
     "metadata": {},
     "output_type": "execute_result"
    }
   ],
   "source": [
    "colours = pd.Series(['Red', 'Blue', 'Black'])\n",
    "colours"
   ]
  },
  {
   "cell_type": "markdown",
   "id": "american-target",
   "metadata": {},
   "source": [
    "##### dataframe = 2-dimentional"
   ]
  },
  {
   "cell_type": "code",
   "execution_count": 6,
   "id": "associate-punishment",
   "metadata": {},
   "outputs": [
    {
     "data": {
      "text/html": [
       "<div>\n",
       "<style scoped>\n",
       "    .dataframe tbody tr th:only-of-type {\n",
       "        vertical-align: middle;\n",
       "    }\n",
       "\n",
       "    .dataframe tbody tr th {\n",
       "        vertical-align: top;\n",
       "    }\n",
       "\n",
       "    .dataframe thead th {\n",
       "        text-align: right;\n",
       "    }\n",
       "</style>\n",
       "<table border=\"1\" class=\"dataframe\">\n",
       "  <thead>\n",
       "    <tr style=\"text-align: right;\">\n",
       "      <th></th>\n",
       "      <th>Car make</th>\n",
       "      <th>Colour</th>\n",
       "    </tr>\n",
       "  </thead>\n",
       "  <tbody>\n",
       "    <tr>\n",
       "      <th>0</th>\n",
       "      <td>BMW</td>\n",
       "      <td>Red</td>\n",
       "    </tr>\n",
       "    <tr>\n",
       "      <th>1</th>\n",
       "      <td>Toyota</td>\n",
       "      <td>Blue</td>\n",
       "    </tr>\n",
       "    <tr>\n",
       "      <th>2</th>\n",
       "      <td>Honda</td>\n",
       "      <td>Black</td>\n",
       "    </tr>\n",
       "  </tbody>\n",
       "</table>\n",
       "</div>"
      ],
      "text/plain": [
       "  Car make Colour\n",
       "0      BMW    Red\n",
       "1   Toyota   Blue\n",
       "2    Honda  Black"
      ]
     },
     "execution_count": 6,
     "metadata": {},
     "output_type": "execute_result"
    }
   ],
   "source": [
    "car_data = pd.DataFrame({'Car make': car_brands, 'Colour' : colours})\n",
    "car_data"
   ]
  },
  {
   "cell_type": "markdown",
   "id": "distant-arrival",
   "metadata": {},
   "source": [
    "##### Importing data"
   ]
  },
  {
   "cell_type": "code",
   "execution_count": 7,
   "id": "posted-singapore",
   "metadata": {},
   "outputs": [
    {
     "data": {
      "text/html": [
       "<div>\n",
       "<style scoped>\n",
       "    .dataframe tbody tr th:only-of-type {\n",
       "        vertical-align: middle;\n",
       "    }\n",
       "\n",
       "    .dataframe tbody tr th {\n",
       "        vertical-align: top;\n",
       "    }\n",
       "\n",
       "    .dataframe thead th {\n",
       "        text-align: right;\n",
       "    }\n",
       "</style>\n",
       "<table border=\"1\" class=\"dataframe\">\n",
       "  <thead>\n",
       "    <tr style=\"text-align: right;\">\n",
       "      <th></th>\n",
       "      <th>Make</th>\n",
       "      <th>Colour</th>\n",
       "      <th>Odometer (KM)</th>\n",
       "      <th>Doors</th>\n",
       "      <th>Price</th>\n",
       "    </tr>\n",
       "  </thead>\n",
       "  <tbody>\n",
       "    <tr>\n",
       "      <th>0</th>\n",
       "      <td>Honda</td>\n",
       "      <td>White</td>\n",
       "      <td>35431</td>\n",
       "      <td>4</td>\n",
       "      <td>15323</td>\n",
       "    </tr>\n",
       "    <tr>\n",
       "      <th>1</th>\n",
       "      <td>BMW</td>\n",
       "      <td>Blue</td>\n",
       "      <td>192714</td>\n",
       "      <td>5</td>\n",
       "      <td>19943</td>\n",
       "    </tr>\n",
       "    <tr>\n",
       "      <th>2</th>\n",
       "      <td>Honda</td>\n",
       "      <td>White</td>\n",
       "      <td>84714</td>\n",
       "      <td>4</td>\n",
       "      <td>28343</td>\n",
       "    </tr>\n",
       "    <tr>\n",
       "      <th>3</th>\n",
       "      <td>Toyota</td>\n",
       "      <td>White</td>\n",
       "      <td>154365</td>\n",
       "      <td>4</td>\n",
       "      <td>13434</td>\n",
       "    </tr>\n",
       "    <tr>\n",
       "      <th>4</th>\n",
       "      <td>Nissan</td>\n",
       "      <td>Blue</td>\n",
       "      <td>181577</td>\n",
       "      <td>3</td>\n",
       "      <td>14043</td>\n",
       "    </tr>\n",
       "    <tr>\n",
       "      <th>5</th>\n",
       "      <td>Honda</td>\n",
       "      <td>Red</td>\n",
       "      <td>42652</td>\n",
       "      <td>4</td>\n",
       "      <td>23883</td>\n",
       "    </tr>\n",
       "    <tr>\n",
       "      <th>6</th>\n",
       "      <td>Toyota</td>\n",
       "      <td>Blue</td>\n",
       "      <td>163453</td>\n",
       "      <td>4</td>\n",
       "      <td>8473</td>\n",
       "    </tr>\n",
       "    <tr>\n",
       "      <th>7</th>\n",
       "      <td>Honda</td>\n",
       "      <td>White</td>\n",
       "      <td>43120</td>\n",
       "      <td>4</td>\n",
       "      <td>20306</td>\n",
       "    </tr>\n",
       "    <tr>\n",
       "      <th>8</th>\n",
       "      <td>Nissan</td>\n",
       "      <td>White</td>\n",
       "      <td>130538</td>\n",
       "      <td>4</td>\n",
       "      <td>9374</td>\n",
       "    </tr>\n",
       "    <tr>\n",
       "      <th>9</th>\n",
       "      <td>Honda</td>\n",
       "      <td>Blue</td>\n",
       "      <td>51029</td>\n",
       "      <td>4</td>\n",
       "      <td>26683</td>\n",
       "    </tr>\n",
       "  </tbody>\n",
       "</table>\n",
       "</div>"
      ],
      "text/plain": [
       "     Make Colour  Odometer (KM)  Doors  Price\n",
       "0   Honda  White          35431      4  15323\n",
       "1     BMW   Blue         192714      5  19943\n",
       "2   Honda  White          84714      4  28343\n",
       "3  Toyota  White         154365      4  13434\n",
       "4  Nissan   Blue         181577      3  14043\n",
       "5   Honda    Red          42652      4  23883\n",
       "6  Toyota   Blue         163453      4   8473\n",
       "7   Honda  White          43120      4  20306\n",
       "8  Nissan  White         130538      4   9374\n",
       "9   Honda   Blue          51029      4  26683"
      ]
     },
     "execution_count": 7,
     "metadata": {},
     "output_type": "execute_result"
    }
   ],
   "source": [
    "car_sales = pd.read_csv('car-sales-extended.csv')\n",
    "car_sales.head(10)"
   ]
  },
  {
   "cell_type": "markdown",
   "id": "signed-passenger",
   "metadata": {},
   "source": [
    "##### exporting a dataframe"
   ]
  },
  {
   "cell_type": "code",
   "execution_count": 8,
   "id": "simplified-address",
   "metadata": {},
   "outputs": [
    {
     "data": {
      "text/html": [
       "<div>\n",
       "<style scoped>\n",
       "    .dataframe tbody tr th:only-of-type {\n",
       "        vertical-align: middle;\n",
       "    }\n",
       "\n",
       "    .dataframe tbody tr th {\n",
       "        vertical-align: top;\n",
       "    }\n",
       "\n",
       "    .dataframe thead th {\n",
       "        text-align: right;\n",
       "    }\n",
       "</style>\n",
       "<table border=\"1\" class=\"dataframe\">\n",
       "  <thead>\n",
       "    <tr style=\"text-align: right;\">\n",
       "      <th></th>\n",
       "      <th>Make</th>\n",
       "      <th>Colour</th>\n",
       "      <th>Odometer (KM)</th>\n",
       "      <th>Doors</th>\n",
       "      <th>Price</th>\n",
       "    </tr>\n",
       "  </thead>\n",
       "  <tbody>\n",
       "    <tr>\n",
       "      <th>0</th>\n",
       "      <td>Honda</td>\n",
       "      <td>White</td>\n",
       "      <td>35431</td>\n",
       "      <td>4</td>\n",
       "      <td>15323</td>\n",
       "    </tr>\n",
       "    <tr>\n",
       "      <th>1</th>\n",
       "      <td>BMW</td>\n",
       "      <td>Blue</td>\n",
       "      <td>192714</td>\n",
       "      <td>5</td>\n",
       "      <td>19943</td>\n",
       "    </tr>\n",
       "    <tr>\n",
       "      <th>2</th>\n",
       "      <td>Honda</td>\n",
       "      <td>White</td>\n",
       "      <td>84714</td>\n",
       "      <td>4</td>\n",
       "      <td>28343</td>\n",
       "    </tr>\n",
       "    <tr>\n",
       "      <th>3</th>\n",
       "      <td>Toyota</td>\n",
       "      <td>White</td>\n",
       "      <td>154365</td>\n",
       "      <td>4</td>\n",
       "      <td>13434</td>\n",
       "    </tr>\n",
       "    <tr>\n",
       "      <th>4</th>\n",
       "      <td>Nissan</td>\n",
       "      <td>Blue</td>\n",
       "      <td>181577</td>\n",
       "      <td>3</td>\n",
       "      <td>14043</td>\n",
       "    </tr>\n",
       "    <tr>\n",
       "      <th>5</th>\n",
       "      <td>Honda</td>\n",
       "      <td>Red</td>\n",
       "      <td>42652</td>\n",
       "      <td>4</td>\n",
       "      <td>23883</td>\n",
       "    </tr>\n",
       "    <tr>\n",
       "      <th>6</th>\n",
       "      <td>Toyota</td>\n",
       "      <td>Blue</td>\n",
       "      <td>163453</td>\n",
       "      <td>4</td>\n",
       "      <td>8473</td>\n",
       "    </tr>\n",
       "    <tr>\n",
       "      <th>7</th>\n",
       "      <td>Honda</td>\n",
       "      <td>White</td>\n",
       "      <td>43120</td>\n",
       "      <td>4</td>\n",
       "      <td>20306</td>\n",
       "    </tr>\n",
       "    <tr>\n",
       "      <th>8</th>\n",
       "      <td>Nissan</td>\n",
       "      <td>White</td>\n",
       "      <td>130538</td>\n",
       "      <td>4</td>\n",
       "      <td>9374</td>\n",
       "    </tr>\n",
       "    <tr>\n",
       "      <th>9</th>\n",
       "      <td>Honda</td>\n",
       "      <td>Blue</td>\n",
       "      <td>51029</td>\n",
       "      <td>4</td>\n",
       "      <td>26683</td>\n",
       "    </tr>\n",
       "  </tbody>\n",
       "</table>\n",
       "</div>"
      ],
      "text/plain": [
       "     Make Colour  Odometer (KM)  Doors  Price\n",
       "0   Honda  White          35431      4  15323\n",
       "1     BMW   Blue         192714      5  19943\n",
       "2   Honda  White          84714      4  28343\n",
       "3  Toyota  White         154365      4  13434\n",
       "4  Nissan   Blue         181577      3  14043\n",
       "5   Honda    Red          42652      4  23883\n",
       "6  Toyota   Blue         163453      4   8473\n",
       "7   Honda  White          43120      4  20306\n",
       "8  Nissan  White         130538      4   9374\n",
       "9   Honda   Blue          51029      4  26683"
      ]
     },
     "execution_count": 8,
     "metadata": {},
     "output_type": "execute_result"
    }
   ],
   "source": [
    "exported_car_sales = car_sales.to_csv('exported-car-sales-extended.csv')\n",
    "car_sales.head(10)"
   ]
  },
  {
   "cell_type": "markdown",
   "id": "threatened-miniature",
   "metadata": {},
   "source": [
    "## Describing data"
   ]
  },
  {
   "cell_type": "code",
   "execution_count": 9,
   "id": "endangered-black",
   "metadata": {},
   "outputs": [
    {
     "data": {
      "text/plain": [
       "Make             object\n",
       "Colour           object\n",
       "Odometer (KM)     int64\n",
       "Doors             int64\n",
       "Price             int64\n",
       "dtype: object"
      ]
     },
     "execution_count": 9,
     "metadata": {},
     "output_type": "execute_result"
    }
   ],
   "source": [
    "car_sales.dtypes  #Attribute (doesn't have braces) while functions do"
   ]
  },
  {
   "cell_type": "code",
   "execution_count": 10,
   "id": "minus-bridge",
   "metadata": {},
   "outputs": [
    {
     "data": {
      "text/plain": [
       "Index(['Make', 'Colour', 'Odometer (KM)', 'Doors', 'Price'], dtype='object')"
      ]
     },
     "execution_count": 10,
     "metadata": {},
     "output_type": "execute_result"
    }
   ],
   "source": [
    "car_sales.columns"
   ]
  },
  {
   "cell_type": "code",
   "execution_count": 11,
   "id": "distinguished-campbell",
   "metadata": {},
   "outputs": [
    {
     "data": {
      "text/plain": [
       "RangeIndex(start=0, stop=1000, step=1)"
      ]
     },
     "execution_count": 11,
     "metadata": {},
     "output_type": "execute_result"
    }
   ],
   "source": [
    "car_sales.index"
   ]
  },
  {
   "cell_type": "code",
   "execution_count": 12,
   "id": "elect-richards",
   "metadata": {},
   "outputs": [
    {
     "data": {
      "text/html": [
       "<div>\n",
       "<style scoped>\n",
       "    .dataframe tbody tr th:only-of-type {\n",
       "        vertical-align: middle;\n",
       "    }\n",
       "\n",
       "    .dataframe tbody tr th {\n",
       "        vertical-align: top;\n",
       "    }\n",
       "\n",
       "    .dataframe thead th {\n",
       "        text-align: right;\n",
       "    }\n",
       "</style>\n",
       "<table border=\"1\" class=\"dataframe\">\n",
       "  <thead>\n",
       "    <tr style=\"text-align: right;\">\n",
       "      <th></th>\n",
       "      <th>Odometer (KM)</th>\n",
       "      <th>Doors</th>\n",
       "      <th>Price</th>\n",
       "    </tr>\n",
       "  </thead>\n",
       "  <tbody>\n",
       "    <tr>\n",
       "      <th>count</th>\n",
       "      <td>1000.000000</td>\n",
       "      <td>1000.000000</td>\n",
       "      <td>1000.000000</td>\n",
       "    </tr>\n",
       "    <tr>\n",
       "      <th>mean</th>\n",
       "      <td>131073.708000</td>\n",
       "      <td>4.014000</td>\n",
       "      <td>16045.665000</td>\n",
       "    </tr>\n",
       "    <tr>\n",
       "      <th>std</th>\n",
       "      <td>68859.723885</td>\n",
       "      <td>0.379405</td>\n",
       "      <td>8630.794219</td>\n",
       "    </tr>\n",
       "    <tr>\n",
       "      <th>min</th>\n",
       "      <td>10148.000000</td>\n",
       "      <td>3.000000</td>\n",
       "      <td>2796.000000</td>\n",
       "    </tr>\n",
       "    <tr>\n",
       "      <th>25%</th>\n",
       "      <td>71238.000000</td>\n",
       "      <td>4.000000</td>\n",
       "      <td>9481.500000</td>\n",
       "    </tr>\n",
       "    <tr>\n",
       "      <th>50%</th>\n",
       "      <td>131202.000000</td>\n",
       "      <td>4.000000</td>\n",
       "      <td>14264.000000</td>\n",
       "    </tr>\n",
       "    <tr>\n",
       "      <th>75%</th>\n",
       "      <td>192372.750000</td>\n",
       "      <td>4.000000</td>\n",
       "      <td>20738.750000</td>\n",
       "    </tr>\n",
       "    <tr>\n",
       "      <th>max</th>\n",
       "      <td>249860.000000</td>\n",
       "      <td>5.000000</td>\n",
       "      <td>52458.000000</td>\n",
       "    </tr>\n",
       "  </tbody>\n",
       "</table>\n",
       "</div>"
      ],
      "text/plain": [
       "       Odometer (KM)        Doors         Price\n",
       "count    1000.000000  1000.000000   1000.000000\n",
       "mean   131073.708000     4.014000  16045.665000\n",
       "std     68859.723885     0.379405   8630.794219\n",
       "min     10148.000000     3.000000   2796.000000\n",
       "25%     71238.000000     4.000000   9481.500000\n",
       "50%    131202.000000     4.000000  14264.000000\n",
       "75%    192372.750000     4.000000  20738.750000\n",
       "max    249860.000000     5.000000  52458.000000"
      ]
     },
     "execution_count": 12,
     "metadata": {},
     "output_type": "execute_result"
    }
   ],
   "source": [
    "car_sales.describe()"
   ]
  },
  {
   "cell_type": "code",
   "execution_count": 13,
   "id": "comic-marketing",
   "metadata": {},
   "outputs": [
    {
     "name": "stdout",
     "output_type": "stream",
     "text": [
      "<class 'pandas.core.frame.DataFrame'>\n",
      "RangeIndex: 1000 entries, 0 to 999\n",
      "Data columns (total 5 columns):\n",
      " #   Column         Non-Null Count  Dtype \n",
      "---  ------         --------------  ----- \n",
      " 0   Make           1000 non-null   object\n",
      " 1   Colour         1000 non-null   object\n",
      " 2   Odometer (KM)  1000 non-null   int64 \n",
      " 3   Doors          1000 non-null   int64 \n",
      " 4   Price          1000 non-null   int64 \n",
      "dtypes: int64(3), object(2)\n",
      "memory usage: 39.2+ KB\n"
     ]
    }
   ],
   "source": [
    "car_sales.info()"
   ]
  },
  {
   "cell_type": "markdown",
   "id": "certain-notice",
   "metadata": {},
   "source": [
    "## Viewing and selecting data"
   ]
  },
  {
   "cell_type": "markdown",
   "id": "direct-qualification",
   "metadata": {},
   "source": [
    "##### .loc and .iloc"
   ]
  },
  {
   "cell_type": "code",
   "execution_count": 14,
   "id": "artificial-election",
   "metadata": {},
   "outputs": [
    {
     "data": {
      "text/plain": [
       "5      Dragon\n",
       "9         Dog\n",
       "6         Cat\n",
       "7       Panda\n",
       "6    Penguine\n",
       "dtype: object"
      ]
     },
     "execution_count": 14,
     "metadata": {},
     "output_type": "execute_result"
    }
   ],
   "source": [
    "animals = pd.Series(['Dragon', 'Dog', 'Cat', 'Panda', 'Penguine'], index=[5,9,6,7,6])\n",
    "animals"
   ]
  },
  {
   "cell_type": "code",
   "execution_count": 15,
   "id": "going-wonder",
   "metadata": {},
   "outputs": [
    {
     "data": {
      "text/plain": [
       "6         Cat\n",
       "6    Penguine\n",
       "dtype: object"
      ]
     },
     "execution_count": 15,
     "metadata": {},
     "output_type": "execute_result"
    }
   ],
   "source": [
    "animals.loc[6] # .loc(i) gives rows having index == i"
   ]
  },
  {
   "cell_type": "code",
   "execution_count": 16,
   "id": "aging-carrier",
   "metadata": {},
   "outputs": [
    {
     "data": {
      "text/plain": [
       "Make             Toyota\n",
       "Colour             Blue\n",
       "Odometer (KM)    163453\n",
       "Doors                 4\n",
       "Price              8473\n",
       "Name: 6, dtype: object"
      ]
     },
     "execution_count": 16,
     "metadata": {},
     "output_type": "execute_result"
    }
   ],
   "source": [
    "car_sales.loc[6]"
   ]
  },
  {
   "cell_type": "code",
   "execution_count": 17,
   "id": "solved-variation",
   "metadata": {},
   "outputs": [
    {
     "data": {
      "text/plain": [
       "'Penguine'"
      ]
     },
     "execution_count": 17,
     "metadata": {},
     "output_type": "execute_result"
    }
   ],
   "source": [
    "animals.iloc[4] # .iloc[i] works like list indexing"
   ]
  },
  {
   "cell_type": "code",
   "execution_count": 18,
   "id": "contrary-sleeping",
   "metadata": {},
   "outputs": [
    {
     "data": {
      "text/plain": [
       "5    Dragon\n",
       "9       Dog\n",
       "6       Cat\n",
       "dtype: object"
      ]
     },
     "execution_count": 18,
     "metadata": {},
     "output_type": "execute_result"
    }
   ],
   "source": [
    "animals.iloc[:3]"
   ]
  },
  {
   "cell_type": "code",
   "execution_count": 19,
   "id": "desperate-forwarding",
   "metadata": {},
   "outputs": [
    {
     "data": {
      "text/html": [
       "<div>\n",
       "<style scoped>\n",
       "    .dataframe tbody tr th:only-of-type {\n",
       "        vertical-align: middle;\n",
       "    }\n",
       "\n",
       "    .dataframe tbody tr th {\n",
       "        vertical-align: top;\n",
       "    }\n",
       "\n",
       "    .dataframe thead th {\n",
       "        text-align: right;\n",
       "    }\n",
       "</style>\n",
       "<table border=\"1\" class=\"dataframe\">\n",
       "  <thead>\n",
       "    <tr style=\"text-align: right;\">\n",
       "      <th></th>\n",
       "      <th>Make</th>\n",
       "      <th>Colour</th>\n",
       "      <th>Odometer (KM)</th>\n",
       "      <th>Doors</th>\n",
       "      <th>Price</th>\n",
       "    </tr>\n",
       "  </thead>\n",
       "  <tbody>\n",
       "    <tr>\n",
       "      <th>0</th>\n",
       "      <td>Honda</td>\n",
       "      <td>White</td>\n",
       "      <td>35431</td>\n",
       "      <td>4</td>\n",
       "      <td>15323</td>\n",
       "    </tr>\n",
       "    <tr>\n",
       "      <th>1</th>\n",
       "      <td>BMW</td>\n",
       "      <td>Blue</td>\n",
       "      <td>192714</td>\n",
       "      <td>5</td>\n",
       "      <td>19943</td>\n",
       "    </tr>\n",
       "    <tr>\n",
       "      <th>2</th>\n",
       "      <td>Honda</td>\n",
       "      <td>White</td>\n",
       "      <td>84714</td>\n",
       "      <td>4</td>\n",
       "      <td>28343</td>\n",
       "    </tr>\n",
       "  </tbody>\n",
       "</table>\n",
       "</div>"
      ],
      "text/plain": [
       "    Make Colour  Odometer (KM)  Doors  Price\n",
       "0  Honda  White          35431      4  15323\n",
       "1    BMW   Blue         192714      5  19943\n",
       "2  Honda  White          84714      4  28343"
      ]
     },
     "execution_count": 19,
     "metadata": {},
     "output_type": "execute_result"
    }
   ],
   "source": [
    "car_sales.iloc[:3]"
   ]
  },
  {
   "cell_type": "markdown",
   "id": "tested-business",
   "metadata": {},
   "source": [
    "## Comparing\n",
    "##### crosstab"
   ]
  },
  {
   "cell_type": "code",
   "execution_count": 20,
   "id": "extraordinary-charity",
   "metadata": {},
   "outputs": [
    {
     "data": {
      "text/html": [
       "<div>\n",
       "<style scoped>\n",
       "    .dataframe tbody tr th:only-of-type {\n",
       "        vertical-align: middle;\n",
       "    }\n",
       "\n",
       "    .dataframe tbody tr th {\n",
       "        vertical-align: top;\n",
       "    }\n",
       "\n",
       "    .dataframe thead th {\n",
       "        text-align: right;\n",
       "    }\n",
       "</style>\n",
       "<table border=\"1\" class=\"dataframe\">\n",
       "  <thead>\n",
       "    <tr style=\"text-align: right;\">\n",
       "      <th>Doors</th>\n",
       "      <th>3</th>\n",
       "      <th>4</th>\n",
       "      <th>5</th>\n",
       "    </tr>\n",
       "    <tr>\n",
       "      <th>Make</th>\n",
       "      <th></th>\n",
       "      <th></th>\n",
       "      <th></th>\n",
       "    </tr>\n",
       "  </thead>\n",
       "  <tbody>\n",
       "    <tr>\n",
       "      <th>BMW</th>\n",
       "      <td>21</td>\n",
       "      <td>0</td>\n",
       "      <td>79</td>\n",
       "    </tr>\n",
       "    <tr>\n",
       "      <th>Honda</th>\n",
       "      <td>0</td>\n",
       "      <td>304</td>\n",
       "      <td>0</td>\n",
       "    </tr>\n",
       "    <tr>\n",
       "      <th>Nissan</th>\n",
       "      <td>44</td>\n",
       "      <td>154</td>\n",
       "      <td>0</td>\n",
       "    </tr>\n",
       "    <tr>\n",
       "      <th>Toyota</th>\n",
       "      <td>0</td>\n",
       "      <td>398</td>\n",
       "      <td>0</td>\n",
       "    </tr>\n",
       "  </tbody>\n",
       "</table>\n",
       "</div>"
      ],
      "text/plain": [
       "Doors    3    4   5\n",
       "Make               \n",
       "BMW     21    0  79\n",
       "Honda    0  304   0\n",
       "Nissan  44  154   0\n",
       "Toyota   0  398   0"
      ]
     },
     "execution_count": 20,
     "metadata": {},
     "output_type": "execute_result"
    }
   ],
   "source": [
    "pd.crosstab(car_sales['Make'], car_sales['Doors'])"
   ]
  },
  {
   "cell_type": "markdown",
   "id": "provincial-point",
   "metadata": {},
   "source": [
    "##### groupby"
   ]
  },
  {
   "cell_type": "code",
   "execution_count": 21,
   "id": "collected-sector",
   "metadata": {},
   "outputs": [
    {
     "data": {
      "text/html": [
       "<div>\n",
       "<style scoped>\n",
       "    .dataframe tbody tr th:only-of-type {\n",
       "        vertical-align: middle;\n",
       "    }\n",
       "\n",
       "    .dataframe tbody tr th {\n",
       "        vertical-align: top;\n",
       "    }\n",
       "\n",
       "    .dataframe thead th {\n",
       "        text-align: right;\n",
       "    }\n",
       "</style>\n",
       "<table border=\"1\" class=\"dataframe\">\n",
       "  <thead>\n",
       "    <tr style=\"text-align: right;\">\n",
       "      <th></th>\n",
       "      <th>Odometer (KM)</th>\n",
       "      <th>Doors</th>\n",
       "      <th>Price</th>\n",
       "    </tr>\n",
       "    <tr>\n",
       "      <th>Make</th>\n",
       "      <th></th>\n",
       "      <th></th>\n",
       "      <th></th>\n",
       "    </tr>\n",
       "  </thead>\n",
       "  <tbody>\n",
       "    <tr>\n",
       "      <th>BMW</th>\n",
       "      <td>123540.800000</td>\n",
       "      <td>4.580000</td>\n",
       "      <td>27089.830000</td>\n",
       "    </tr>\n",
       "    <tr>\n",
       "      <th>Honda</th>\n",
       "      <td>124667.671053</td>\n",
       "      <td>4.000000</td>\n",
       "      <td>14514.200658</td>\n",
       "    </tr>\n",
       "    <tr>\n",
       "      <th>Nissan</th>\n",
       "      <td>135480.308081</td>\n",
       "      <td>3.777778</td>\n",
       "      <td>13658.368687</td>\n",
       "    </tr>\n",
       "    <tr>\n",
       "      <th>Toyota</th>\n",
       "      <td>135667.223618</td>\n",
       "      <td>4.000000</td>\n",
       "      <td>15628.160804</td>\n",
       "    </tr>\n",
       "  </tbody>\n",
       "</table>\n",
       "</div>"
      ],
      "text/plain": [
       "        Odometer (KM)     Doors         Price\n",
       "Make                                         \n",
       "BMW     123540.800000  4.580000  27089.830000\n",
       "Honda   124667.671053  4.000000  14514.200658\n",
       "Nissan  135480.308081  3.777778  13658.368687\n",
       "Toyota  135667.223618  4.000000  15628.160804"
      ]
     },
     "execution_count": 21,
     "metadata": {},
     "output_type": "execute_result"
    }
   ],
   "source": [
    "car_sales.groupby(['Make']).mean()"
   ]
  },
  {
   "cell_type": "code",
   "execution_count": 22,
   "id": "developing-cannon",
   "metadata": {},
   "outputs": [
    {
     "data": {
      "text/plain": [
       "<AxesSubplot:>"
      ]
     },
     "execution_count": 22,
     "metadata": {},
     "output_type": "execute_result"
    },
    {
     "data": {
      "image/png": "[encoded data removed]",
      "text/plain": [
       "<Figure size 432x288 with 1 Axes>"
      ]
     },
     "metadata": {
      "needs_background": "light"
     },
     "output_type": "display_data"
    }
   ],
   "source": [
    "car_sales['Odometer (KM)'].head(20).plot()"
   ]
  },
  {
   "cell_type": "markdown",
   "id": "turned-thriller",
   "metadata": {},
   "source": [
    "## Manipulating Data"
   ]
  },
  {
   "cell_type": "code",
   "execution_count": 23,
   "id": "previous-partnership",
   "metadata": {},
   "outputs": [
    {
     "data": {
      "text/plain": [
       "0       honda\n",
       "1         bmw\n",
       "2       honda\n",
       "3      toyota\n",
       "4      nissan\n",
       "        ...  \n",
       "995    toyota\n",
       "996    nissan\n",
       "997    nissan\n",
       "998     honda\n",
       "999    toyota\n",
       "Name: Make, Length: 1000, dtype: object"
      ]
     },
     "execution_count": 23,
     "metadata": {},
     "output_type": "execute_result"
    }
   ],
   "source": [
    " car_sales.Make.str.lower()"
   ]
  },
  {
   "cell_type": "code",
   "execution_count": 24,
   "id": "neither-automation",
   "metadata": {},
   "outputs": [
    {
     "data": {
      "text/html": [
       "<div>\n",
       "<style scoped>\n",
       "    .dataframe tbody tr th:only-of-type {\n",
       "        vertical-align: middle;\n",
       "    }\n",
       "\n",
       "    .dataframe tbody tr th {\n",
       "        vertical-align: top;\n",
       "    }\n",
       "\n",
       "    .dataframe thead th {\n",
       "        text-align: right;\n",
       "    }\n",
       "</style>\n",
       "<table border=\"1\" class=\"dataframe\">\n",
       "  <thead>\n",
       "    <tr style=\"text-align: right;\">\n",
       "      <th></th>\n",
       "      <th>Make</th>\n",
       "      <th>Colour</th>\n",
       "      <th>Odometer (KM)</th>\n",
       "      <th>Doors</th>\n",
       "      <th>Price</th>\n",
       "    </tr>\n",
       "  </thead>\n",
       "  <tbody>\n",
       "    <tr>\n",
       "      <th>0</th>\n",
       "      <td>Honda</td>\n",
       "      <td>White</td>\n",
       "      <td>35431.0</td>\n",
       "      <td>4.0</td>\n",
       "      <td>15323.0</td>\n",
       "    </tr>\n",
       "    <tr>\n",
       "      <th>1</th>\n",
       "      <td>BMW</td>\n",
       "      <td>Blue</td>\n",
       "      <td>192714.0</td>\n",
       "      <td>5.0</td>\n",
       "      <td>19943.0</td>\n",
       "    </tr>\n",
       "    <tr>\n",
       "      <th>2</th>\n",
       "      <td>Honda</td>\n",
       "      <td>White</td>\n",
       "      <td>84714.0</td>\n",
       "      <td>4.0</td>\n",
       "      <td>28343.0</td>\n",
       "    </tr>\n",
       "    <tr>\n",
       "      <th>3</th>\n",
       "      <td>Toyota</td>\n",
       "      <td>White</td>\n",
       "      <td>154365.0</td>\n",
       "      <td>4.0</td>\n",
       "      <td>13434.0</td>\n",
       "    </tr>\n",
       "    <tr>\n",
       "      <th>4</th>\n",
       "      <td>Nissan</td>\n",
       "      <td>Blue</td>\n",
       "      <td>181577.0</td>\n",
       "      <td>3.0</td>\n",
       "      <td>14043.0</td>\n",
       "    </tr>\n",
       "    <tr>\n",
       "      <th>...</th>\n",
       "      <td>...</td>\n",
       "      <td>...</td>\n",
       "      <td>...</td>\n",
       "      <td>...</td>\n",
       "      <td>...</td>\n",
       "    </tr>\n",
       "    <tr>\n",
       "      <th>95</th>\n",
       "      <td>Honda</td>\n",
       "      <td>Blue</td>\n",
       "      <td>143707.0</td>\n",
       "      <td>4.0</td>\n",
       "      <td>16337.0</td>\n",
       "    </tr>\n",
       "    <tr>\n",
       "      <th>96</th>\n",
       "      <td>Toyota</td>\n",
       "      <td>Blue</td>\n",
       "      <td>29856.0</td>\n",
       "      <td>4.0</td>\n",
       "      <td>11392.0</td>\n",
       "    </tr>\n",
       "    <tr>\n",
       "      <th>97</th>\n",
       "      <td>Toyota</td>\n",
       "      <td>Black</td>\n",
       "      <td>133433.0</td>\n",
       "      <td>4.0</td>\n",
       "      <td>16519.0</td>\n",
       "    </tr>\n",
       "    <tr>\n",
       "      <th>98</th>\n",
       "      <td>Toyota</td>\n",
       "      <td>Red</td>\n",
       "      <td>147455.0</td>\n",
       "      <td>4.0</td>\n",
       "      <td>22296.0</td>\n",
       "    </tr>\n",
       "    <tr>\n",
       "      <th>99</th>\n",
       "      <td>Honda</td>\n",
       "      <td>NaN</td>\n",
       "      <td>48069.0</td>\n",
       "      <td>4.0</td>\n",
       "      <td>12196.0</td>\n",
       "    </tr>\n",
       "  </tbody>\n",
       "</table>\n",
       "<p>100 rows × 5 columns</p>\n",
       "</div>"
      ],
      "text/plain": [
       "      Make Colour  Odometer (KM)  Doors    Price\n",
       "0    Honda  White        35431.0    4.0  15323.0\n",
       "1      BMW   Blue       192714.0    5.0  19943.0\n",
       "2    Honda  White        84714.0    4.0  28343.0\n",
       "3   Toyota  White       154365.0    4.0  13434.0\n",
       "4   Nissan   Blue       181577.0    3.0  14043.0\n",
       "..     ...    ...            ...    ...      ...\n",
       "95   Honda   Blue       143707.0    4.0  16337.0\n",
       "96  Toyota   Blue        29856.0    4.0  11392.0\n",
       "97  Toyota  Black       133433.0    4.0  16519.0\n",
       "98  Toyota    Red       147455.0    4.0  22296.0\n",
       "99   Honda    NaN        48069.0    4.0  12196.0\n",
       "\n",
       "[100 rows x 5 columns]"
      ]
     },
     "execution_count": 24,
     "metadata": {},
     "output_type": "execute_result"
    }
   ],
   "source": [
    "car_sales_missing = pd.read_csv('https://raw.githubusercontent.com/mrdbourke/zero-to-mastery-ml/master/data/car-sales-extended-missing-data.csv')\n",
    "car_sales_missing.head(100)"
   ]
  },
  {
   "cell_type": "code",
   "execution_count": 25,
   "id": "primary-concentrate",
   "metadata": {},
   "outputs": [
    {
     "data": {
      "text/plain": [
       "False    1000\n",
       "Name: Odometer (KM), dtype: int64"
      ]
     },
     "execution_count": 25,
     "metadata": {},
     "output_type": "execute_result"
    }
   ],
   "source": [
    "car_sales_missing['Odometer (KM)'].fillna(car_sales_missing['Odometer (KM)'].mean(), inplace = True)\n",
    "car_sales_missing['Odometer (KM)'].isna().value_counts()"
   ]
  },
  {
   "cell_type": "code",
   "execution_count": 26,
   "id": "adjustable-sphere",
   "metadata": {},
   "outputs": [
    {
     "data": {
      "text/html": [
       "<div>\n",
       "<style scoped>\n",
       "    .dataframe tbody tr th:only-of-type {\n",
       "        vertical-align: middle;\n",
       "    }\n",
       "\n",
       "    .dataframe tbody tr th {\n",
       "        vertical-align: top;\n",
       "    }\n",
       "\n",
       "    .dataframe thead th {\n",
       "        text-align: right;\n",
       "    }\n",
       "</style>\n",
       "<table border=\"1\" class=\"dataframe\">\n",
       "  <thead>\n",
       "    <tr style=\"text-align: right;\">\n",
       "      <th></th>\n",
       "      <th>Odometer (KM)</th>\n",
       "      <th>Doors</th>\n",
       "      <th>Price</th>\n",
       "    </tr>\n",
       "    <tr>\n",
       "      <th>Make</th>\n",
       "      <th></th>\n",
       "      <th></th>\n",
       "      <th></th>\n",
       "    </tr>\n",
       "  </thead>\n",
       "  <tbody>\n",
       "    <tr>\n",
       "      <th>BMW</th>\n",
       "      <td>127724.128117</td>\n",
       "      <td>4.548387</td>\n",
       "      <td>26902.440860</td>\n",
       "    </tr>\n",
       "    <tr>\n",
       "      <th>Honda</th>\n",
       "      <td>125521.997707</td>\n",
       "      <td>4.000000</td>\n",
       "      <td>14618.661922</td>\n",
       "    </tr>\n",
       "    <tr>\n",
       "      <th>Nissan</th>\n",
       "      <td>136475.074409</td>\n",
       "      <td>3.782857</td>\n",
       "      <td>13664.502857</td>\n",
       "    </tr>\n",
       "    <tr>\n",
       "      <th>Toyota</th>\n",
       "      <td>135732.242861</td>\n",
       "      <td>4.000000</td>\n",
       "      <td>15715.257062</td>\n",
       "    </tr>\n",
       "  </tbody>\n",
       "</table>\n",
       "</div>"
      ],
      "text/plain": [
       "        Odometer (KM)     Doors         Price\n",
       "Make                                         \n",
       "BMW     127724.128117  4.548387  26902.440860\n",
       "Honda   125521.997707  4.000000  14618.661922\n",
       "Nissan  136475.074409  3.782857  13664.502857\n",
       "Toyota  135732.242861  4.000000  15715.257062"
      ]
     },
     "execution_count": 26,
     "metadata": {},
     "output_type": "execute_result"
    }
   ],
   "source": [
    "groupby_make = car_sales_missing.groupby('Make')\n",
    "groupby_make.mean()"
   ]
  },
  {
   "cell_type": "code",
   "execution_count": 27,
   "id": "overall-spyware",
   "metadata": {},
   "outputs": [
    {
     "data": {
      "text/plain": [
       "Make   Price\n",
       "False  False    903\n",
       "       True      48\n",
       "True   False     47\n",
       "       True       2\n",
       "dtype: int64"
      ]
     },
     "execution_count": 27,
     "metadata": {},
     "output_type": "execute_result"
    }
   ],
   "source": [
    "car_sales_missing[['Make','Price']].isna().value_counts()"
   ]
  },
  {
   "cell_type": "markdown",
   "id": "beautiful-steam",
   "metadata": {},
   "source": [
    "##### New column called seats"
   ]
  },
  {
   "cell_type": "code",
   "execution_count": 28,
   "id": "painful-somewhere",
   "metadata": {},
   "outputs": [
    {
     "data": {
      "text/plain": [
       "False    500\n",
       "True     500\n",
       "Name: Seats, dtype: int64"
      ]
     },
     "execution_count": 28,
     "metadata": {},
     "output_type": "execute_result"
    }
   ],
   "source": [
    "car_sales_missing['Seats'] = pd.Series([5 for i in range(500)]) #lengths need not match for pd.Series\n",
    "car_sales_missing['Seats'].isna().value_counts()"
   ]
  },
  {
   "cell_type": "code",
   "execution_count": 29,
   "id": "functional-membrane",
   "metadata": {},
   "outputs": [
    {
     "data": {
      "text/plain": [
       "False    1000\n",
       "Name: Seats, dtype: int64"
      ]
     },
     "execution_count": 29,
     "metadata": {},
     "output_type": "execute_result"
    }
   ],
   "source": [
    "car_sales_missing['Seats'].fillna(5, inplace = True)\n",
    "car_sales_missing['Seats'].isna().value_counts()"
   ]
  },
  {
   "cell_type": "markdown",
   "id": "assumed-forward",
   "metadata": {},
   "source": [
    "##### New column called Fuel per 100KM"
   ]
  },
  {
   "cell_type": "code",
   "execution_count": 30,
   "id": "sapphire-faith",
   "metadata": {},
   "outputs": [
    {
     "data": {
      "text/plain": [
       "False    1000\n",
       "Name: Fuel per 100KM, dtype: int64"
      ]
     },
     "execution_count": 30,
     "metadata": {},
     "output_type": "execute_result"
    }
   ],
   "source": [
    "import random\n",
    "# lengths need to match for list\n",
    "car_sales_missing['Fuel per 100KM'] = [round(random.random()*10, 1) for i in range(1000)]\n",
    "car_sales_missing['Fuel per 100KM'].isna().value_counts()"
   ]
  },
  {
   "cell_type": "code",
   "execution_count": 31,
   "id": "first-personal",
   "metadata": {},
   "outputs": [],
   "source": [
    "car_sales_missing['Total fuel used'] = car_sales['Odometer (KM)']/100 * car_sales_missing['Fuel per 100KM']"
   ]
  },
  {
   "cell_type": "markdown",
   "id": "signal-microwave",
   "metadata": {},
   "source": [
    "##### Shuffling DataFrame"
   ]
  },
  {
   "cell_type": "code",
   "execution_count": 32,
   "id": "desirable-entertainment",
   "metadata": {},
   "outputs": [],
   "source": [
    "car_sales_shuffled = car_sales_missing.sample(frac = 1)"
   ]
  },
  {
   "cell_type": "code",
   "execution_count": 33,
   "id": "governing-redhead",
   "metadata": {},
   "outputs": [],
   "source": [
    "car_sales_shuffled.reset_index(drop = True, inplace = True)"
   ]
  },
  {
   "cell_type": "code",
   "execution_count": 34,
   "id": "basic-produce",
   "metadata": {},
   "outputs": [
    {
     "data": {
      "text/html": [
       "<div>\n",
       "<style scoped>\n",
       "    .dataframe tbody tr th:only-of-type {\n",
       "        vertical-align: middle;\n",
       "    }\n",
       "\n",
       "    .dataframe tbody tr th {\n",
       "        vertical-align: top;\n",
       "    }\n",
       "\n",
       "    .dataframe thead th {\n",
       "        text-align: right;\n",
       "    }\n",
       "</style>\n",
       "<table border=\"1\" class=\"dataframe\">\n",
       "  <thead>\n",
       "    <tr style=\"text-align: right;\">\n",
       "      <th></th>\n",
       "      <th>Make</th>\n",
       "      <th>Colour</th>\n",
       "      <th>Odometer (KM)</th>\n",
       "      <th>Doors</th>\n",
       "      <th>Price</th>\n",
       "      <th>Seats</th>\n",
       "      <th>Fuel per 100KM</th>\n",
       "      <th>Total fuel used</th>\n",
       "    </tr>\n",
       "  </thead>\n",
       "  <tbody>\n",
       "    <tr>\n",
       "      <th>0</th>\n",
       "      <td>Toyota</td>\n",
       "      <td>White</td>\n",
       "      <td>83594.0</td>\n",
       "      <td>NaN</td>\n",
       "      <td>13648.0</td>\n",
       "      <td>5.0</td>\n",
       "      <td>8.6</td>\n",
       "      <td>7189.084</td>\n",
       "    </tr>\n",
       "    <tr>\n",
       "      <th>1</th>\n",
       "      <td>Honda</td>\n",
       "      <td>Blue</td>\n",
       "      <td>37678.0</td>\n",
       "      <td>4.0</td>\n",
       "      <td>6361.0</td>\n",
       "      <td>5.0</td>\n",
       "      <td>8.0</td>\n",
       "      <td>3014.240</td>\n",
       "    </tr>\n",
       "    <tr>\n",
       "      <th>2</th>\n",
       "      <td>Honda</td>\n",
       "      <td>NaN</td>\n",
       "      <td>41846.0</td>\n",
       "      <td>4.0</td>\n",
       "      <td>10241.0</td>\n",
       "      <td>5.0</td>\n",
       "      <td>6.5</td>\n",
       "      <td>2719.990</td>\n",
       "    </tr>\n",
       "    <tr>\n",
       "      <th>3</th>\n",
       "      <td>Honda</td>\n",
       "      <td>Black</td>\n",
       "      <td>134825.0</td>\n",
       "      <td>4.0</td>\n",
       "      <td>17315.0</td>\n",
       "      <td>5.0</td>\n",
       "      <td>9.3</td>\n",
       "      <td>12538.725</td>\n",
       "    </tr>\n",
       "    <tr>\n",
       "      <th>4</th>\n",
       "      <td>Toyota</td>\n",
       "      <td>White</td>\n",
       "      <td>69222.0</td>\n",
       "      <td>4.0</td>\n",
       "      <td>29363.0</td>\n",
       "      <td>5.0</td>\n",
       "      <td>9.5</td>\n",
       "      <td>6576.090</td>\n",
       "    </tr>\n",
       "    <tr>\n",
       "      <th>5</th>\n",
       "      <td>Honda</td>\n",
       "      <td>White</td>\n",
       "      <td>13116.0</td>\n",
       "      <td>4.0</td>\n",
       "      <td>16464.0</td>\n",
       "      <td>5.0</td>\n",
       "      <td>3.5</td>\n",
       "      <td>459.060</td>\n",
       "    </tr>\n",
       "    <tr>\n",
       "      <th>6</th>\n",
       "      <td>Toyota</td>\n",
       "      <td>Green</td>\n",
       "      <td>37703.0</td>\n",
       "      <td>4.0</td>\n",
       "      <td>NaN</td>\n",
       "      <td>5.0</td>\n",
       "      <td>7.9</td>\n",
       "      <td>2978.537</td>\n",
       "    </tr>\n",
       "    <tr>\n",
       "      <th>7</th>\n",
       "      <td>Honda</td>\n",
       "      <td>White</td>\n",
       "      <td>211862.0</td>\n",
       "      <td>4.0</td>\n",
       "      <td>12476.0</td>\n",
       "      <td>5.0</td>\n",
       "      <td>2.5</td>\n",
       "      <td>5296.550</td>\n",
       "    </tr>\n",
       "    <tr>\n",
       "      <th>8</th>\n",
       "      <td>Toyota</td>\n",
       "      <td>Blue</td>\n",
       "      <td>186309.0</td>\n",
       "      <td>4.0</td>\n",
       "      <td>16416.0</td>\n",
       "      <td>5.0</td>\n",
       "      <td>6.9</td>\n",
       "      <td>12855.321</td>\n",
       "    </tr>\n",
       "    <tr>\n",
       "      <th>9</th>\n",
       "      <td>BMW</td>\n",
       "      <td>Black</td>\n",
       "      <td>11049.0</td>\n",
       "      <td>3.0</td>\n",
       "      <td>19500.0</td>\n",
       "      <td>5.0</td>\n",
       "      <td>5.5</td>\n",
       "      <td>607.695</td>\n",
       "    </tr>\n",
       "  </tbody>\n",
       "</table>\n",
       "</div>"
      ],
      "text/plain": [
       "     Make Colour  Odometer (KM)  Doors    Price  Seats  Fuel per 100KM  \\\n",
       "0  Toyota  White        83594.0    NaN  13648.0    5.0             8.6   \n",
       "1   Honda   Blue        37678.0    4.0   6361.0    5.0             8.0   \n",
       "2   Honda    NaN        41846.0    4.0  10241.0    5.0             6.5   \n",
       "3   Honda  Black       134825.0    4.0  17315.0    5.0             9.3   \n",
       "4  Toyota  White        69222.0    4.0  29363.0    5.0             9.5   \n",
       "5   Honda  White        13116.0    4.0  16464.0    5.0             3.5   \n",
       "6  Toyota  Green        37703.0    4.0      NaN    5.0             7.9   \n",
       "7   Honda  White       211862.0    4.0  12476.0    5.0             2.5   \n",
       "8  Toyota   Blue       186309.0    4.0  16416.0    5.0             6.9   \n",
       "9     BMW  Black        11049.0    3.0  19500.0    5.0             5.5   \n",
       "\n",
       "   Total fuel used  \n",
       "0         7189.084  \n",
       "1         3014.240  \n",
       "2         2719.990  \n",
       "3        12538.725  \n",
       "4         6576.090  \n",
       "5          459.060  \n",
       "6         2978.537  \n",
       "7         5296.550  \n",
       "8        12855.321  \n",
       "9          607.695  "
      ]
     },
     "execution_count": 34,
     "metadata": {},
     "output_type": "execute_result"
    }
   ],
   "source": [
    "car_sales_shuffled.head(10)"
   ]
  },
  {
   "cell_type": "code",
   "execution_count": 35,
   "id": "answering-poultry",
   "metadata": {},
   "outputs": [
    {
     "data": {
      "text/plain": [
       "0       51954.008701\n",
       "1       23417.029211\n",
       "2       26007.458048\n",
       "3       83794.282163\n",
       "4       43021.752641\n",
       "           ...      \n",
       "995     83394.033561\n",
       "996     93587.321318\n",
       "997     74152.268490\n",
       "998     74231.821007\n",
       "999    143141.081417\n",
       "Name: Odometer (KM), Length: 1000, dtype: float64"
      ]
     },
     "execution_count": 35,
     "metadata": {},
     "output_type": "execute_result"
    }
   ],
   "source": [
    "car_sales_shuffled['Odometer (KM)'] = car_sales_shuffled['Odometer (KM)'].apply(lambda x: x/1.609)\n",
    "car_sales_shuffled['Odometer (KM)']"
   ]
  }
 ],
 "metadata": {
  "kernelspec": {
   "display_name": "Python 3",
   "language": "python",
   "name": "python3"
  },
  "language_info": {
   "codemirror_mode": {
    "name": "ipython",
    "version": 3
   },
   "file_extension": ".py",
   "mimetype": "text/x-python",
   "name": "python",
   "nbconvert_exporter": "python",
   "pygments_lexer": "ipython3",
   "version": "3.8.8"
  }
 },
 "nbformat": 4,
 "nbformat_minor": 5
}
