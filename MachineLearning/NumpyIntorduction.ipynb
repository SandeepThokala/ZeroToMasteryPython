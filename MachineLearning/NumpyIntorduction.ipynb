{
 "cells": [
  {
   "cell_type": "code",
   "execution_count": 1,
   "id": "floating-situation",
   "metadata": {},
   "outputs": [],
   "source": [
    "import numpy as np"
   ]
  },
  {
   "cell_type": "markdown",
   "id": "atmospheric-humor",
   "metadata": {},
   "source": [
    "## Datatypes and attributes"
   ]
  },
  {
   "cell_type": "markdown",
   "id": "victorian-spine",
   "metadata": {},
   "source": [
    "##### ndarray"
   ]
  },
  {
   "cell_type": "code",
   "execution_count": 2,
   "id": "amber-twist",
   "metadata": {},
   "outputs": [
    {
     "data": {
      "text/plain": [
       "array([1, 2, 3])"
      ]
     },
     "execution_count": 2,
     "metadata": {},
     "output_type": "execute_result"
    }
   ],
   "source": [
    "a1 = np.array([1,2,3])\n",
    "a1"
   ]
  },
  {
   "cell_type": "code",
   "execution_count": 3,
   "id": "liberal-pillow",
   "metadata": {},
   "outputs": [],
   "source": [
    "a2 = np.array([[1,2,3],[4,5,6]])\n",
    "a3 = np.array([[[1,2,3],[4,5,6],[7,8,9]],\n",
    "               [[10,11,12],[13,14,15],[16,17,18]]])"
   ]
  },
  {
   "cell_type": "code",
   "execution_count": 5,
   "id": "excess-gibraltar",
   "metadata": {},
   "outputs": [
    {
     "data": {
      "text/plain": [
       "(array([1, 2, 3]),\n",
       " array([[1, 2, 3],\n",
       "        [4, 5, 6]]),\n",
       " array([[[ 1,  2,  3],\n",
       "         [ 4,  5,  6],\n",
       "         [ 7,  8,  9]],\n",
       " \n",
       "        [[10, 11, 12],\n",
       "         [13, 14, 15],\n",
       "         [16, 17, 18]]]))"
      ]
     },
     "execution_count": 5,
     "metadata": {},
     "output_type": "execute_result"
    }
   ],
   "source": [
    "a1, a2, a3"
   ]
  },
  {
   "cell_type": "markdown",
   "id": "incredible-outreach",
   "metadata": {},
   "source": [
    "##### attributes"
   ]
  },
  {
   "cell_type": "code",
   "execution_count": 6,
   "id": "coated-clerk",
   "metadata": {},
   "outputs": [
    {
     "data": {
      "text/plain": [
       "((3,), (2, 3), (2, 3, 3))"
      ]
     },
     "execution_count": 6,
     "metadata": {},
     "output_type": "execute_result"
    }
   ],
   "source": [
    "a1.shape, a2.shape, a3.shape"
   ]
  },
  {
   "cell_type": "code",
   "execution_count": 7,
   "id": "earned-antarctica",
   "metadata": {},
   "outputs": [
    {
     "data": {
      "text/plain": [
       "(1, 2, 3)"
      ]
     },
     "execution_count": 7,
     "metadata": {},
     "output_type": "execute_result"
    }
   ],
   "source": [
    "a1.ndim, a2.ndim, a3.ndim"
   ]
  },
  {
   "cell_type": "code",
   "execution_count": 8,
   "id": "asian-burning",
   "metadata": {},
   "outputs": [
    {
     "data": {
      "text/plain": [
       "(3, 6, 18)"
      ]
     },
     "execution_count": 8,
     "metadata": {},
     "output_type": "execute_result"
    }
   ],
   "source": [
    "a1.size, a2.size, a3.size"
   ]
  },
  {
   "cell_type": "markdown",
   "id": "packed-territory",
   "metadata": {},
   "source": [
    "## Creating arrays"
   ]
  },
  {
   "cell_type": "code",
   "execution_count": 9,
   "id": "quarterly-container",
   "metadata": {},
   "outputs": [
    {
     "data": {
      "text/plain": [
       "array([1, 2, 3])"
      ]
     },
     "execution_count": 9,
     "metadata": {},
     "output_type": "execute_result"
    }
   ],
   "source": [
    "sample_array = np.array([1, 2, 3])\n",
    "sample_array"
   ]
  },
  {
   "cell_type": "code",
   "execution_count": 11,
   "id": "expressed-moore",
   "metadata": {},
   "outputs": [
    {
     "data": {
      "text/plain": [
       "array([[1, 1, 1],\n",
       "       [1, 1, 1]])"
      ]
     },
     "execution_count": 11,
     "metadata": {},
     "output_type": "execute_result"
    }
   ],
   "source": [
    "ones = np.ones((2, 3), dtype = int)\n",
    "ones"
   ]
  },
  {
   "cell_type": "code",
   "execution_count": 13,
   "id": "legislative-atlas",
   "metadata": {},
   "outputs": [
    {
     "data": {
      "text/plain": [
       "array([[0., 0., 0., 0., 0., 0.],\n",
       "       [0., 0., 0., 0., 0., 0.],\n",
       "       [0., 0., 0., 0., 0., 0.],\n",
       "       [0., 0., 0., 0., 0., 0.],\n",
       "       [0., 0., 0., 0., 0., 0.]])"
      ]
     },
     "execution_count": 13,
     "metadata": {},
     "output_type": "execute_result"
    }
   ],
   "source": [
    "zrs = np.zeros((5,6))\n",
    "zrs"
   ]
  },
  {
   "cell_type": "code",
   "execution_count": 14,
   "id": "caroline-minute",
   "metadata": {},
   "outputs": [
    {
     "data": {
      "text/plain": [
       "array([0, 2, 4, 6, 8])"
      ]
     },
     "execution_count": 14,
     "metadata": {},
     "output_type": "execute_result"
    }
   ],
   "source": [
    "np.arange(0, 10, 2)"
   ]
  },
  {
   "cell_type": "code",
   "execution_count": 15,
   "id": "loving-final",
   "metadata": {},
   "outputs": [
    {
     "data": {
      "text/plain": [
       "array([[0, 2, 8, 1, 7],\n",
       "       [8, 4, 7, 1, 3],\n",
       "       [1, 9, 1, 4, 9]])"
      ]
     },
     "execution_count": 15,
     "metadata": {},
     "output_type": "execute_result"
    }
   ],
   "source": [
    "np.random.randint(0, 10, size = (3, 5))"
   ]
  },
  {
   "cell_type": "code",
   "execution_count": 16,
   "id": "graduate-weapon",
   "metadata": {},
   "outputs": [
    {
     "data": {
      "text/plain": [
       "array([[0.39053631, 0.59335161, 0.72828087],\n",
       "       [0.98022215, 0.5564343 , 0.20344353],\n",
       "       [0.89480214, 0.74098635, 0.94349965],\n",
       "       [0.34109736, 0.65961799, 0.36103065],\n",
       "       [0.00868033, 0.09523753, 0.42583729]])"
      ]
     },
     "execution_count": 16,
     "metadata": {},
     "output_type": "execute_result"
    }
   ],
   "source": [
    "np.random.random((5,3))"
   ]
  },
  {
   "cell_type": "markdown",
   "id": "operational-description",
   "metadata": {},
   "source": [
    "##### pseudo random"
   ]
  },
  {
   "cell_type": "code",
   "execution_count": 17,
   "id": "dried-blame",
   "metadata": {},
   "outputs": [
    {
     "data": {
      "text/plain": [
       "array([[147, 168, 125, 167, 183, 123, 192, 157, 114, 123, 172, 189, 142,\n",
       "        190, 108, 139, 168, 148, 107, 144],\n",
       "       [100, 175, 155, 106, 119, 160, 144, 163, 169, 156, 124, 155, 153,\n",
       "        161, 164, 134, 156, 173, 178, 138]])"
      ]
     },
     "execution_count": 17,
     "metadata": {},
     "output_type": "execute_result"
    }
   ],
   "source": [
    "np.random.seed(7)\n",
    "np.random.randint(100, 199, (2,20))"
   ]
  },
  {
   "cell_type": "code",
   "execution_count": 20,
   "id": "center-writer",
   "metadata": {},
   "outputs": [
    {
     "data": {
      "text/plain": [
       "array([[147, 168, 125, 167, 183, 123, 192, 157, 114, 123, 172, 189, 142,\n",
       "        190, 108],\n",
       "       [139, 168, 148, 107, 144, 100, 175, 155, 106, 119, 160, 144, 163,\n",
       "        169, 156]])"
      ]
     },
     "execution_count": 20,
     "metadata": {},
     "output_type": "execute_result"
    }
   ],
   "source": [
    "np.random.seed(7)\n",
    "np.random.randint(100, 199, (2,15))"
   ]
  },
  {
   "cell_type": "markdown",
   "id": "requested-request",
   "metadata": {},
   "source": [
    "##### Viewing arrays and matrices"
   ]
  },
  {
   "cell_type": "code",
   "execution_count": 34,
   "id": "interpreted-manchester",
   "metadata": {},
   "outputs": [],
   "source": [
    "random_4d_array = np.random.randint(-50, 50, (2,3,4,5))"
   ]
  },
  {
   "cell_type": "code",
   "execution_count": 35,
   "id": "isolated-sierra",
   "metadata": {},
   "outputs": [
    {
     "data": {
      "text/plain": [
       "((2, 3, 4, 5), 120)"
      ]
     },
     "execution_count": 35,
     "metadata": {},
     "output_type": "execute_result"
    }
   ],
   "source": [
    "random_4d_array.shape, random_5d_array.size"
   ]
  },
  {
   "cell_type": "code",
   "execution_count": 36,
   "id": "whole-festival",
   "metadata": {},
   "outputs": [
    {
     "data": {
      "text/plain": [
       "array([[[[ 37, -16, -30,   5,   2],\n",
       "         [ 17, -37,  40, -18, -35],\n",
       "         [ 15, -18, -49,  36,  11],\n",
       "         [-49,  35, -36, -42,  42]],\n",
       "\n",
       "        [[-31, -47,  23,  40, -27],\n",
       "         [ -7,  15,  -3, -27,   5],\n",
       "         [ 41,   9,  32, -23, -40],\n",
       "         [-19,   6,  34, -47,   2]],\n",
       "\n",
       "        [[-11,  40,   4,  46,   3],\n",
       "         [ 27, -43, -24,   9,  -4],\n",
       "         [ 11,  38,  41,  -2, -33],\n",
       "         [-21, -21, -29,  25,  48]]],\n",
       "\n",
       "\n",
       "       [[[  5,  -3,  20,  19,  23],\n",
       "         [-40,  27,   4,  15, -15],\n",
       "         [-45, -46, -39,  12,   0],\n",
       "         [ -2, -32, -41, -46, -23]],\n",
       "\n",
       "        [[ 11,  -2, -25, -48,  -9],\n",
       "         [-34,   9,  15,  -6,  48],\n",
       "         [-20,  19,  -4, -12,  40],\n",
       "         [ 25,  17,   8, -17,   8]],\n",
       "\n",
       "        [[ 13,  38,   2, -36,   2],\n",
       "         [ -1,  31, -18,  15, -14],\n",
       "         [ 13,  -2, -26, -25, -30],\n",
       "         [-29,  35, -36, -24,  27]]]])"
      ]
     },
     "execution_count": 36,
     "metadata": {},
     "output_type": "execute_result"
    }
   ],
   "source": [
    "random_4d_array"
   ]
  },
  {
   "cell_type": "code",
   "execution_count": 42,
   "id": "proprietary-writing",
   "metadata": {},
   "outputs": [
    {
     "data": {
      "text/plain": [
       "array([ 13,  38,   2, -36,   2])"
      ]
     },
     "execution_count": 42,
     "metadata": {},
     "output_type": "execute_result"
    }
   ],
   "source": [
    "random_4d_array[1,2,0,:]"
   ]
  },
  {
   "cell_type": "code",
   "execution_count": 43,
   "id": "immune-intermediate",
   "metadata": {},
   "outputs": [
    {
     "data": {
      "text/plain": [
       "array([[[ 37, -16, -30],\n",
       "        [-31, -47,  23],\n",
       "        [-11,  40,   4]],\n",
       "\n",
       "       [[  5,  -3,  20],\n",
       "        [ 11,  -2, -25],\n",
       "        [ 13,  38,   2]]])"
      ]
     },
     "execution_count": 43,
     "metadata": {},
     "output_type": "execute_result"
    }
   ],
   "source": [
    "random_4d_array[:, :, 0, :3]"
   ]
  },
  {
   "cell_type": "markdown",
   "id": "attractive-daughter",
   "metadata": {},
   "source": [
    "## Manipulating arrays"
   ]
  },
  {
   "cell_type": "markdown",
   "id": "herbal-programming",
   "metadata": {},
   "source": [
    "##### Arithmatic"
   ]
  },
  {
   "cell_type": "code",
   "execution_count": 44,
   "id": "developing-playlist",
   "metadata": {},
   "outputs": [
    {
     "data": {
      "text/plain": [
       "array([0., 1., 2.])"
      ]
     },
     "execution_count": 44,
     "metadata": {},
     "output_type": "execute_result"
    }
   ],
   "source": [
    "a1 - np.ones(a1.shape)"
   ]
  },
  {
   "cell_type": "code",
   "execution_count": null,
   "id": "tested-final",
   "metadata": {},
   "outputs": [],
   "source": []
  }
 ],
 "metadata": {
  "kernelspec": {
   "display_name": "Python 3",
   "language": "python",
   "name": "python3"
  },
  "language_info": {
   "codemirror_mode": {
    "name": "ipython",
    "version": 3
   },
   "file_extension": ".py",
   "mimetype": "text/x-python",
   "name": "python",
   "nbconvert_exporter": "python",
   "pygments_lexer": "ipython3",
   "version": "3.8.8"
  }
 },
 "nbformat": 4,
 "nbformat_minor": 5
}
