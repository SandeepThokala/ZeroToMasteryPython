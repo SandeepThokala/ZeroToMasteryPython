{
 "cells": [
  {
   "cell_type": "code",
   "execution_count": 2,
   "id": "floating-situation",
   "metadata": {},
   "outputs": [],
   "source": [
    "import numpy as np"
   ]
  },
  {
   "cell_type": "markdown",
   "id": "atmospheric-humor",
   "metadata": {},
   "source": [
    "## Datatypes and attributes"
   ]
  },
  {
   "cell_type": "markdown",
   "id": "victorian-spine",
   "metadata": {},
   "source": [
    "##### ndarray"
   ]
  },
  {
   "cell_type": "code",
   "execution_count": 3,
   "id": "amber-twist",
   "metadata": {},
   "outputs": [
    {
     "data": {
      "text/plain": [
       "array([1, 2, 3])"
      ]
     },
     "execution_count": 3,
     "metadata": {},
     "output_type": "execute_result"
    }
   ],
   "source": [
    "a1 = np.array([1,2,3])\n",
    "a1"
   ]
  },
  {
   "cell_type": "code",
   "execution_count": 4,
   "id": "liberal-pillow",
   "metadata": {},
   "outputs": [],
   "source": [
    "a2 = np.array([[1,2,3],[4,5,6]])\n",
    "a3 = np.array([[[1,2,3],[4,5,6],[7,8,9]],\n",
    "               [[10,11,12],[13,14,15],[16,17,18]]])"
   ]
  },
  {
   "cell_type": "code",
   "execution_count": 5,
   "id": "excess-gibraltar",
   "metadata": {},
   "outputs": [
    {
     "data": {
      "text/plain": [
       "(array([1, 2, 3]),\n",
       " array([[1, 2, 3],\n",
       "        [4, 5, 6]]),\n",
       " array([[[ 1,  2,  3],\n",
       "         [ 4,  5,  6],\n",
       "         [ 7,  8,  9]],\n",
       " \n",
       "        [[10, 11, 12],\n",
       "         [13, 14, 15],\n",
       "         [16, 17, 18]]]))"
      ]
     },
     "execution_count": 5,
     "metadata": {},
     "output_type": "execute_result"
    }
   ],
   "source": [
    "a1, a2, a3"
   ]
  },
  {
   "cell_type": "markdown",
   "id": "incredible-outreach",
   "metadata": {},
   "source": [
    "##### attributes"
   ]
  },
  {
   "cell_type": "code",
   "execution_count": 6,
   "id": "coated-clerk",
   "metadata": {},
   "outputs": [
    {
     "data": {
      "text/plain": [
       "((3,), (2, 3), (2, 3, 3))"
      ]
     },
     "execution_count": 6,
     "metadata": {},
     "output_type": "execute_result"
    }
   ],
   "source": [
    "a1.shape, a2.shape, a3.shape"
   ]
  },
  {
   "cell_type": "code",
   "execution_count": 7,
   "id": "earned-antarctica",
   "metadata": {},
   "outputs": [
    {
     "data": {
      "text/plain": [
       "(1, 2, 3)"
      ]
     },
     "execution_count": 7,
     "metadata": {},
     "output_type": "execute_result"
    }
   ],
   "source": [
    "a1.ndim, a2.ndim, a3.ndim"
   ]
  },
  {
   "cell_type": "code",
   "execution_count": 8,
   "id": "asian-burning",
   "metadata": {},
   "outputs": [
    {
     "data": {
      "text/plain": [
       "(3, 6, 18)"
      ]
     },
     "execution_count": 8,
     "metadata": {},
     "output_type": "execute_result"
    }
   ],
   "source": [
    "a1.size, a2.size, a3.size"
   ]
  },
  {
   "cell_type": "markdown",
   "id": "packed-territory",
   "metadata": {},
   "source": [
    "## Creating arrays"
   ]
  },
  {
   "cell_type": "code",
   "execution_count": 9,
   "id": "quarterly-container",
   "metadata": {},
   "outputs": [
    {
     "data": {
      "text/plain": [
       "array([1, 2, 3])"
      ]
     },
     "execution_count": 9,
     "metadata": {},
     "output_type": "execute_result"
    }
   ],
   "source": [
    "sample_array = np.array([1, 2, 3])\n",
    "sample_array"
   ]
  },
  {
   "cell_type": "code",
   "execution_count": 10,
   "id": "expressed-moore",
   "metadata": {},
   "outputs": [
    {
     "data": {
      "text/plain": [
       "array([[1, 1, 1],\n",
       "       [1, 1, 1]])"
      ]
     },
     "execution_count": 10,
     "metadata": {},
     "output_type": "execute_result"
    }
   ],
   "source": [
    "ones = np.ones((2, 3), dtype = int)\n",
    "ones"
   ]
  },
  {
   "cell_type": "code",
   "execution_count": 11,
   "id": "legislative-atlas",
   "metadata": {},
   "outputs": [
    {
     "data": {
      "text/plain": [
       "array([[0., 0., 0., 0., 0., 0.],\n",
       "       [0., 0., 0., 0., 0., 0.],\n",
       "       [0., 0., 0., 0., 0., 0.],\n",
       "       [0., 0., 0., 0., 0., 0.],\n",
       "       [0., 0., 0., 0., 0., 0.]])"
      ]
     },
     "execution_count": 11,
     "metadata": {},
     "output_type": "execute_result"
    }
   ],
   "source": [
    "zrs = np.zeros((5,6))\n",
    "zrs"
   ]
  },
  {
   "cell_type": "code",
   "execution_count": 12,
   "id": "caroline-minute",
   "metadata": {},
   "outputs": [
    {
     "data": {
      "text/plain": [
       "array([0, 2, 4, 6, 8])"
      ]
     },
     "execution_count": 12,
     "metadata": {},
     "output_type": "execute_result"
    }
   ],
   "source": [
    "np.arange(0, 10, 2)"
   ]
  },
  {
   "cell_type": "code",
   "execution_count": 13,
   "id": "loving-final",
   "metadata": {},
   "outputs": [
    {
     "data": {
      "text/plain": [
       "array([[9, 5, 9, 9, 5],\n",
       "       [6, 3, 8, 2, 9],\n",
       "       [9, 7, 3, 5, 4]])"
      ]
     },
     "execution_count": 13,
     "metadata": {},
     "output_type": "execute_result"
    }
   ],
   "source": [
    "np.random.randint(0, 10, size = (3, 5))"
   ]
  },
  {
   "cell_type": "code",
   "execution_count": 14,
   "id": "graduate-weapon",
   "metadata": {},
   "outputs": [
    {
     "data": {
      "text/plain": [
       "array([[0.34661512, 0.14236417, 0.18225639],\n",
       "       [0.58279392, 0.15984309, 0.35075996],\n",
       "       [0.77155737, 0.91433759, 0.72110344],\n",
       "       [0.71322918, 0.52773631, 0.83465624],\n",
       "       [0.44487013, 0.62746979, 0.90696414]])"
      ]
     },
     "execution_count": 14,
     "metadata": {},
     "output_type": "execute_result"
    }
   ],
   "source": [
    "np.random.random((5,3))"
   ]
  },
  {
   "cell_type": "markdown",
   "id": "operational-description",
   "metadata": {},
   "source": [
    "##### pseudo random"
   ]
  },
  {
   "cell_type": "code",
   "execution_count": 15,
   "id": "dried-blame",
   "metadata": {},
   "outputs": [
    {
     "data": {
      "text/plain": [
       "array([[147, 168, 125, 167, 183, 123, 192, 157, 114, 123, 172, 189, 142,\n",
       "        190, 108, 139, 168, 148, 107, 144],\n",
       "       [100, 175, 155, 106, 119, 160, 144, 163, 169, 156, 124, 155, 153,\n",
       "        161, 164, 134, 156, 173, 178, 138]])"
      ]
     },
     "execution_count": 15,
     "metadata": {},
     "output_type": "execute_result"
    }
   ],
   "source": [
    "np.random.seed(7)\n",
    "np.random.randint(100, 199, (2,20))"
   ]
  },
  {
   "cell_type": "code",
   "execution_count": 16,
   "id": "center-writer",
   "metadata": {},
   "outputs": [
    {
     "data": {
      "text/plain": [
       "array([[147, 168, 125, 167, 183, 123, 192, 157, 114, 123, 172, 189, 142,\n",
       "        190, 108],\n",
       "       [139, 168, 148, 107, 144, 100, 175, 155, 106, 119, 160, 144, 163,\n",
       "        169, 156]])"
      ]
     },
     "execution_count": 16,
     "metadata": {},
     "output_type": "execute_result"
    }
   ],
   "source": [
    "np.random.seed(7)\n",
    "np.random.randint(100, 199, (2,15))"
   ]
  },
  {
   "cell_type": "markdown",
   "id": "requested-request",
   "metadata": {},
   "source": [
    "##### Viewing arrays and matrices"
   ]
  },
  {
   "cell_type": "code",
   "execution_count": 17,
   "id": "interpreted-manchester",
   "metadata": {},
   "outputs": [],
   "source": [
    "random_4d_array = np.random.randint(-50, 50, (2,3,4,5))"
   ]
  },
  {
   "cell_type": "code",
   "execution_count": 19,
   "id": "isolated-sierra",
   "metadata": {},
   "outputs": [
    {
     "data": {
      "text/plain": [
       "((2, 3, 4, 5), 120)"
      ]
     },
     "execution_count": 19,
     "metadata": {},
     "output_type": "execute_result"
    }
   ],
   "source": [
    "random_4d_array.shape, random_4d_array.size"
   ]
  },
  {
   "cell_type": "code",
   "execution_count": 20,
   "id": "whole-festival",
   "metadata": {},
   "outputs": [
    {
     "data": {
      "text/plain": [
       "array([[[[-26,   5,   3,  11,  14],\n",
       "         [-16,   6,  23,  28, -12],\n",
       "         [-46, -41,  37,  49,  17],\n",
       "         [ 22,  33,  -2, -49,  14]],\n",
       "\n",
       "        [[-34, -19,  43,  -6,  42],\n",
       "         [ 21, -27, -40, -15,  14],\n",
       "         [ 11, -43, -27,  42,  46],\n",
       "         [-29, -15,  47,  17,  41]],\n",
       "\n",
       "        [[ 47, -31, -23, -46, -31],\n",
       "         [-17, -20,   7,  23,  43],\n",
       "         [ 31, -19, -48,  33,   0],\n",
       "         [-32, -29,  17,  25,   8]]],\n",
       "\n",
       "\n",
       "       [[[ -3, -34, -38,  43, -41],\n",
       "         [ 26,  17, -36, -30,   3],\n",
       "         [-35,   9, -15,  -2, -46],\n",
       "         [ -7,  22,  40,   4,  -7]],\n",
       "\n",
       "        [[ 37,  27,   0, -11, -47],\n",
       "         [-21, -38,  26,  29, -21],\n",
       "         [-42,   4, -12,  20, -29],\n",
       "         [ -6,  41, -43,  31,  19]],\n",
       "\n",
       "        [[  2,  -9, -21, -24,  14],\n",
       "         [ 12,  36,  48, -38, -44],\n",
       "         [-16,   9,  43, -33, -45],\n",
       "         [ 29,  -1,   4,  26,  42]]]])"
      ]
     },
     "execution_count": 20,
     "metadata": {},
     "output_type": "execute_result"
    }
   ],
   "source": [
    "random_4d_array"
   ]
  },
  {
   "cell_type": "code",
   "execution_count": 21,
   "id": "proprietary-writing",
   "metadata": {},
   "outputs": [
    {
     "data": {
      "text/plain": [
       "array([  2,  -9, -21, -24,  14])"
      ]
     },
     "execution_count": 21,
     "metadata": {},
     "output_type": "execute_result"
    }
   ],
   "source": [
    "random_4d_array[1,2,0,:]"
   ]
  },
  {
   "cell_type": "code",
   "execution_count": 22,
   "id": "immune-intermediate",
   "metadata": {},
   "outputs": [
    {
     "data": {
      "text/plain": [
       "array([[[-26,   5,   3],\n",
       "        [-34, -19,  43],\n",
       "        [ 47, -31, -23]],\n",
       "\n",
       "       [[ -3, -34, -38],\n",
       "        [ 37,  27,   0],\n",
       "        [  2,  -9, -21]]])"
      ]
     },
     "execution_count": 22,
     "metadata": {},
     "output_type": "execute_result"
    }
   ],
   "source": [
    "random_4d_array[:, :, 0, :3]"
   ]
  },
  {
   "cell_type": "markdown",
   "id": "attractive-daughter",
   "metadata": {},
   "source": [
    "## Manipulating arrays"
   ]
  },
  {
   "cell_type": "markdown",
   "id": "herbal-programming",
   "metadata": {},
   "source": [
    "##### Arithmetic"
   ]
  },
  {
   "cell_type": "code",
   "execution_count": 23,
   "id": "developing-playlist",
   "metadata": {},
   "outputs": [
    {
     "data": {
      "text/plain": [
       "array([0., 1., 2.])"
      ]
     },
     "execution_count": 23,
     "metadata": {},
     "output_type": "execute_result"
    }
   ],
   "source": [
    "a1 - np.ones(a1.shape)"
   ]
  },
  {
   "cell_type": "code",
   "execution_count": 24,
   "id": "tested-final",
   "metadata": {},
   "outputs": [
    {
     "data": {
      "text/plain": [
       "array([2., 3., 4.])"
      ]
     },
     "execution_count": 24,
     "metadata": {},
     "output_type": "execute_result"
    }
   ],
   "source": [
    "a1 + np.ones(a1.shape)"
   ]
  },
  {
   "cell_type": "code",
   "execution_count": 25,
   "id": "mineral-order",
   "metadata": {},
   "outputs": [
    {
     "data": {
      "text/plain": [
       "array([[ 1,  4,  9],\n",
       "       [ 4, 10, 18]])"
      ]
     },
     "execution_count": 25,
     "metadata": {},
     "output_type": "execute_result"
    }
   ],
   "source": [
    "a1 * a2"
   ]
  },
  {
   "cell_type": "code",
   "execution_count": 27,
   "id": "loved-remove",
   "metadata": {},
   "outputs": [
    {
     "data": {
      "text/plain": [
       "array([[  2.71828183,   7.3890561 ,  20.08553692],\n",
       "       [ 54.59815003, 148.4131591 , 403.42879349]])"
      ]
     },
     "execution_count": 27,
     "metadata": {},
     "output_type": "execute_result"
    }
   ],
   "source": [
    "np.exp(a2)"
   ]
  },
  {
   "cell_type": "code",
   "execution_count": 28,
   "id": "speaking-going",
   "metadata": {},
   "outputs": [
    {
     "data": {
      "text/plain": [
       "array([[0.        , 0.69314718, 1.09861229],\n",
       "       [1.38629436, 1.60943791, 1.79175947]])"
      ]
     },
     "execution_count": 28,
     "metadata": {},
     "output_type": "execute_result"
    }
   ],
   "source": [
    "np.log(a2)"
   ]
  },
  {
   "cell_type": "code",
   "execution_count": 29,
   "id": "false-advertising",
   "metadata": {},
   "outputs": [],
   "source": [
    "massive_array = np.random.random(100000)"
   ]
  },
  {
   "cell_type": "code",
   "execution_count": 30,
   "id": "surrounded-assembly",
   "metadata": {},
   "outputs": [
    {
     "name": "stdout",
     "output_type": "stream",
     "text": [
      "34.8 ms ± 859 µs per loop (mean ± std. dev. of 7 runs, 10 loops each)\n",
      "141 µs ± 33.4 µs per loop (mean ± std. dev. of 7 runs, 10000 loops each)\n"
     ]
    }
   ],
   "source": [
    "%timeit sum(massive_array)\n",
    "%timeit np.sum(massive_array)"
   ]
  },
  {
   "cell_type": "code",
   "execution_count": 31,
   "id": "executive-satellite",
   "metadata": {},
   "outputs": [
    {
     "data": {
      "text/plain": [
       "array([[1, 2, 3],\n",
       "       [4, 5, 6]])"
      ]
     },
     "execution_count": 31,
     "metadata": {},
     "output_type": "execute_result"
    }
   ],
   "source": [
    "a2"
   ]
  },
  {
   "cell_type": "markdown",
   "id": "similar-retreat",
   "metadata": {},
   "source": [
    "##### Measure of spread of data"
   ]
  },
  {
   "cell_type": "code",
   "execution_count": 32,
   "id": "marked-inside",
   "metadata": {},
   "outputs": [
    {
     "data": {
      "text/plain": [
       "(3.5, 1.707825127659933, 2.9166666666666665)"
      ]
     },
     "execution_count": 32,
     "metadata": {},
     "output_type": "execute_result"
    }
   ],
   "source": [
    "np.mean(a2), np.std(a2), np.var(a2)"
   ]
  },
  {
   "cell_type": "code",
   "execution_count": 33,
   "id": "danish-oracle",
   "metadata": {},
   "outputs": [],
   "source": [
    "high_var = np.array([1, 100, 2000, 200, 500, 300, 5000, 4000])\n",
    "low_var = np.array([2, 4, 6, 8, 10])"
   ]
  },
  {
   "cell_type": "code",
   "execution_count": 34,
   "id": "enhanced-pregnancy",
   "metadata": {},
   "outputs": [
    {
     "data": {
      "text/plain": [
       "(3385715.734375, 8.0)"
      ]
     },
     "execution_count": 34,
     "metadata": {},
     "output_type": "execute_result"
    }
   ],
   "source": [
    "np.var(high_var), np.var(low_var)"
   ]
  },
  {
   "cell_type": "code",
   "execution_count": 35,
   "id": "comparable-grove",
   "metadata": {},
   "outputs": [
    {
     "data": {
      "text/plain": [
       "(1840.0314492896582, 2.8284271247461903)"
      ]
     },
     "execution_count": 35,
     "metadata": {},
     "output_type": "execute_result"
    }
   ],
   "source": [
    "np.std(high_var), np.std(low_var)"
   ]
  },
  {
   "cell_type": "code",
   "execution_count": 36,
   "id": "needed-racing",
   "metadata": {},
   "outputs": [
    {
     "data": {
      "text/plain": [
       "(1512.625, 6.0)"
      ]
     },
     "execution_count": 36,
     "metadata": {},
     "output_type": "execute_result"
    }
   ],
   "source": [
    "np.mean(high_var), np.mean(low_var)"
   ]
  },
  {
   "cell_type": "code",
   "execution_count": 40,
   "id": "rotary-temperature",
   "metadata": {},
   "outputs": [
    {
     "data": {
      "image/png": "[encoded data removed]",
      "text/plain": [
       "<Figure size 432x288 with 1 Axes>"
      ]
     },
     "metadata": {
      "needs_background": "light"
     },
     "output_type": "display_data"
    }
   ],
   "source": [
    "%matplotlib inline\n",
    "import matplotlib.pyplot as plt\n",
    "plt.hist(high_var)\n",
    "plt.show()"
   ]
  },
  {
   "cell_type": "code",
   "execution_count": 41,
   "id": "nuclear-jewelry",
   "metadata": {},
   "outputs": [
    {
     "data": {
      "image/png": "[encoded data removed]",
      "text/plain": [
       "<Figure size 432x288 with 1 Axes>"
      ]
     },
     "metadata": {
      "needs_background": "light"
     },
     "output_type": "display_data"
    }
   ],
   "source": [
    "plt.hist(low_var)\n",
    "plt.show()"
   ]
  },
  {
   "cell_type": "markdown",
   "id": "preliminary-conversion",
   "metadata": {},
   "source": [
    "##### reshape & transpose"
   ]
  },
  {
   "cell_type": "code",
   "execution_count": 48,
   "id": "velvet-partnership",
   "metadata": {},
   "outputs": [
    {
     "data": {
      "text/plain": [
       "(array([1, 2, 3]),\n",
       " (3,),\n",
       " array([[1],\n",
       "        [2],\n",
       "        [3]]),\n",
       " (3, 1))"
      ]
     },
     "execution_count": 48,
     "metadata": {},
     "output_type": "execute_result"
    }
   ],
   "source": [
    "a1, a1.shape, a1.reshape((3, 1)), a1.reshape((3, 1)).shape"
   ]
  },
  {
   "cell_type": "code",
   "execution_count": 43,
   "id": "classified-hindu",
   "metadata": {},
   "outputs": [
    {
     "data": {
      "text/plain": [
       "(array([[1, 2, 3],\n",
       "        [4, 5, 6]]),\n",
       " (2, 3))"
      ]
     },
     "execution_count": 43,
     "metadata": {},
     "output_type": "execute_result"
    }
   ],
   "source": [
    "a2, a2.shape"
   ]
  },
  {
   "cell_type": "code",
   "execution_count": 44,
   "id": "professional-script",
   "metadata": {},
   "outputs": [
    {
     "data": {
      "text/plain": [
       "(array([[[ 1,  2,  3],\n",
       "         [ 4,  5,  6],\n",
       "         [ 7,  8,  9]],\n",
       " \n",
       "        [[10, 11, 12],\n",
       "         [13, 14, 15],\n",
       "         [16, 17, 18]]]),\n",
       " (2, 3, 3))"
      ]
     },
     "execution_count": 44,
     "metadata": {},
     "output_type": "execute_result"
    }
   ],
   "source": [
    "a3, a3.shape"
   ]
  },
  {
   "cell_type": "code",
   "execution_count": 50,
   "id": "mature-progressive",
   "metadata": {},
   "outputs": [
    {
     "data": {
      "text/plain": [
       "(array([[ 1,  4,  9],\n",
       "        [ 4, 10, 18]]),\n",
       " array([[ 1,  4,  9],\n",
       "        [ 4, 10, 18]]))"
      ]
     },
     "execution_count": 50,
     "metadata": {},
     "output_type": "execute_result"
    }
   ],
   "source": [
    "a2 * a1, a2 * a1.reshape((1, 3))"
   ]
  },
  {
   "cell_type": "code",
   "execution_count": 53,
   "id": "stretch-rings",
   "metadata": {},
   "outputs": [
    {
     "ename": "ValueError",
     "evalue": "operands could not be broadcast together with shapes (3,1,2) (2,3,3) ",
     "output_type": "error",
     "traceback": [
      "\u001b[1;31m---------------------------------------------------------------------------\u001b[0m",
      "\u001b[1;31mValueError\u001b[0m                                Traceback (most recent call last)",
      "\u001b[1;32m<ipython-input-53-82d751376fec>\u001b[0m in \u001b[0;36m<module>\u001b[1;34m\u001b[0m\n\u001b[1;32m----> 1\u001b[1;33m \u001b[0ma2\u001b[0m\u001b[1;33m.\u001b[0m\u001b[0mreshape\u001b[0m\u001b[1;33m(\u001b[0m\u001b[1;33m(\u001b[0m\u001b[1;36m3\u001b[0m\u001b[1;33m,\u001b[0m\u001b[1;36m1\u001b[0m\u001b[1;33m,\u001b[0m\u001b[1;36m2\u001b[0m\u001b[1;33m)\u001b[0m\u001b[1;33m)\u001b[0m \u001b[1;33m*\u001b[0m \u001b[0ma3\u001b[0m\u001b[1;33m\u001b[0m\u001b[1;33m\u001b[0m\u001b[0m\n\u001b[0m",
      "\u001b[1;31mValueError\u001b[0m: operands could not be broadcast together with shapes (3,1,2) (2,3,3) "
     ]
    }
   ],
   "source": [
    "a2.reshape(3,1,2) * a3"
   ]
  },
  {
   "cell_type": "code",
   "execution_count": 55,
   "id": "brave-closing",
   "metadata": {},
   "outputs": [
    {
     "data": {
      "text/plain": [
       "array([[[  1,   2,   3],\n",
       "        [  8,  10,  12],\n",
       "        [ 21,  24,  27]],\n",
       "\n",
       "       [[ 40,  44,  48],\n",
       "        [ 65,  70,  75],\n",
       "        [ 96, 102, 108]]])"
      ]
     },
     "execution_count": 55,
     "metadata": {},
     "output_type": "execute_result"
    }
   ],
   "source": [
    "a2.reshape(2,3,1) * a3"
   ]
  },
  {
   "cell_type": "code",
   "execution_count": 56,
   "id": "advisory-wages",
   "metadata": {},
   "outputs": [
    {
     "data": {
      "text/plain": [
       "(array([[1, 2, 3],\n",
       "        [4, 5, 6]]),\n",
       " (2, 3),\n",
       " array([[1, 4],\n",
       "        [2, 5],\n",
       "        [3, 6]]),\n",
       " (3, 2))"
      ]
     },
     "execution_count": 56,
     "metadata": {},
     "output_type": "execute_result"
    }
   ],
   "source": [
    "a2, a2.shape, a2.T, a2.T.shape"
   ]
  },
  {
   "cell_type": "code",
   "execution_count": 57,
   "id": "noted-functionality",
   "metadata": {},
   "outputs": [
    {
     "data": {
      "text/plain": [
       "(array([[[ 1,  2,  3],\n",
       "         [ 4,  5,  6],\n",
       "         [ 7,  8,  9]],\n",
       " \n",
       "        [[10, 11, 12],\n",
       "         [13, 14, 15],\n",
       "         [16, 17, 18]]]),\n",
       " (2, 3, 3),\n",
       " array([[[ 1, 10],\n",
       "         [ 4, 13],\n",
       "         [ 7, 16]],\n",
       " \n",
       "        [[ 2, 11],\n",
       "         [ 5, 14],\n",
       "         [ 8, 17]],\n",
       " \n",
       "        [[ 3, 12],\n",
       "         [ 6, 15],\n",
       "         [ 9, 18]]]),\n",
       " (3, 3, 2))"
      ]
     },
     "execution_count": 57,
     "metadata": {},
     "output_type": "execute_result"
    }
   ],
   "source": [
    "a3, a3.shape, a3.T, a3.T.shape"
   ]
  },
  {
   "cell_type": "markdown",
   "id": "governing-reason",
   "metadata": {},
   "source": [
    "## Dot product"
   ]
  },
  {
   "cell_type": "code",
   "execution_count": 59,
   "id": "widespread-burlington",
   "metadata": {},
   "outputs": [
    {
     "data": {
      "text/plain": [
       "(array([[5, 0, 3],\n",
       "        [3, 7, 9],\n",
       "        [3, 5, 2],\n",
       "        [4, 7, 6],\n",
       "        [8, 8, 1]]),\n",
       " array([[6, 7, 7],\n",
       "        [8, 1, 5],\n",
       "        [9, 8, 9],\n",
       "        [4, 3, 0],\n",
       "        [3, 5, 0]]))"
      ]
     },
     "execution_count": 59,
     "metadata": {},
     "output_type": "execute_result"
    }
   ],
   "source": [
    "np.random.seed(0)\n",
    "mat1 = np.random.randint(10, size = (5, 3))\n",
    "mat2 = np.random.randint(10, size = (5, 3))\n",
    "mat1, mat2"
   ]
  },
  {
   "cell_type": "code",
   "execution_count": 64,
   "id": "future-school",
   "metadata": {},
   "outputs": [
    {
     "data": {
      "text/plain": [
       "(array([[30,  0, 21],\n",
       "        [24,  7, 45],\n",
       "        [27, 40, 18],\n",
       "        [16, 21,  0],\n",
       "        [24, 40,  0]]),\n",
       " array([[ 39,  35,  44,  55,   5],\n",
       "        [ 80,  84, 104, 132,  31],\n",
       "        [ 49,  66,  67,  79,  23],\n",
       "        [ 77,  91, 102, 125,  32],\n",
       "        [ 91, 128, 123, 141,  40]]),\n",
       " array([[112, 148, 144],\n",
       "        [144, 198, 170],\n",
       "        [ 44,  50,  45]]))"
      ]
     },
     "execution_count": 64,
     "metadata": {},
     "output_type": "execute_result"
    }
   ],
   "source": [
    "mat1 * mat2, np.dot(mat1, mat2.reshape(3, 5)), np.dot(mat2.reshape(3, 5), mat1)"
   ]
  },
  {
   "cell_type": "code",
   "execution_count": 65,
   "id": "portuguese-sender",
   "metadata": {},
   "outputs": [
    {
     "data": {
      "text/plain": [
       "(array([[6, 7, 7, 8, 1],\n",
       "        [5, 9, 8, 9, 4],\n",
       "        [3, 0, 3, 5, 0]]),\n",
       " array([[6, 8, 9, 4, 3],\n",
       "        [7, 1, 8, 3, 5],\n",
       "        [7, 5, 9, 0, 0]]))"
      ]
     },
     "execution_count": 65,
     "metadata": {},
     "output_type": "execute_result"
    }
   ],
   "source": [
    "mat2.reshape(3, 5), mat2.T"
   ]
  },
  {
   "cell_type": "markdown",
   "id": "academic-omaha",
   "metadata": {},
   "source": [
    "## Dot product example"
   ]
  },
  {
   "cell_type": "code",
   "execution_count": 68,
   "id": "mediterranean-piece",
   "metadata": {},
   "outputs": [
    {
     "data": {
      "text/html": [
       "<div>\n",
       "<style scoped>\n",
       "    .dataframe tbody tr th:only-of-type {\n",
       "        vertical-align: middle;\n",
       "    }\n",
       "\n",
       "    .dataframe tbody tr th {\n",
       "        vertical-align: top;\n",
       "    }\n",
       "\n",
       "    .dataframe thead th {\n",
       "        text-align: right;\n",
       "    }\n",
       "</style>\n",
       "<table border=\"1\" class=\"dataframe\">\n",
       "  <thead>\n",
       "    <tr style=\"text-align: right;\">\n",
       "      <th></th>\n",
       "      <th>Peanut</th>\n",
       "      <th>Almond</th>\n",
       "      <th>Cashew</th>\n",
       "    </tr>\n",
       "  </thead>\n",
       "  <tbody>\n",
       "    <tr>\n",
       "      <th>Mon</th>\n",
       "      <td>12</td>\n",
       "      <td>15</td>\n",
       "      <td>0</td>\n",
       "    </tr>\n",
       "    <tr>\n",
       "      <th>Tues</th>\n",
       "      <td>3</td>\n",
       "      <td>3</td>\n",
       "      <td>7</td>\n",
       "    </tr>\n",
       "    <tr>\n",
       "      <th>Wed</th>\n",
       "      <td>9</td>\n",
       "      <td>19</td>\n",
       "      <td>18</td>\n",
       "    </tr>\n",
       "    <tr>\n",
       "      <th>Thu</th>\n",
       "      <td>4</td>\n",
       "      <td>6</td>\n",
       "      <td>12</td>\n",
       "    </tr>\n",
       "    <tr>\n",
       "      <th>Fri</th>\n",
       "      <td>1</td>\n",
       "      <td>6</td>\n",
       "      <td>7</td>\n",
       "    </tr>\n",
       "  </tbody>\n",
       "</table>\n",
       "</div>"
      ],
      "text/plain": [
       "      Peanut  Almond  Cashew\n",
       "Mon       12      15       0\n",
       "Tues       3       3       7\n",
       "Wed        9      19      18\n",
       "Thu        4       6      12\n",
       "Fri        1       6       7"
      ]
     },
     "execution_count": 68,
     "metadata": {},
     "output_type": "execute_result"
    }
   ],
   "source": [
    "np.random.seed(0)\n",
    "import pandas as pd\n",
    "sales_df = pd.DataFrame(np.random.randint(20, size = (5, 3)),\n",
    "                        index = ['Mon', 'Tues', 'Wed', 'Thu', 'Fri'],\n",
    "                        columns = ['Peanut', 'Almond', 'Cashew'])\n",
    "sales_df"
   ]
  },
  {
   "cell_type": "code",
   "execution_count": 73,
   "id": "experimental-landing",
   "metadata": {},
   "outputs": [
    {
     "data": {
      "text/plain": [
       "((3,), array([[10,  8, 12]]))"
      ]
     },
     "execution_count": 73,
     "metadata": {},
     "output_type": "execute_result"
    }
   ],
   "source": [
    "np.array([10, 8, 12]).shape, np.array([10, 8, 12]).reshape(1,3)"
   ]
  },
  {
   "cell_type": "code",
   "execution_count": 74,
   "id": "starting-howard",
   "metadata": {},
   "outputs": [
    {
     "data": {
      "text/html": [
       "<div>\n",
       "<style scoped>\n",
       "    .dataframe tbody tr th:only-of-type {\n",
       "        vertical-align: middle;\n",
       "    }\n",
       "\n",
       "    .dataframe tbody tr th {\n",
       "        vertical-align: top;\n",
       "    }\n",
       "\n",
       "    .dataframe thead th {\n",
       "        text-align: right;\n",
       "    }\n",
       "</style>\n",
       "<table border=\"1\" class=\"dataframe\">\n",
       "  <thead>\n",
       "    <tr style=\"text-align: right;\">\n",
       "      <th></th>\n",
       "      <th>Peanut</th>\n",
       "      <th>Almond</th>\n",
       "      <th>Cashew</th>\n",
       "    </tr>\n",
       "  </thead>\n",
       "  <tbody>\n",
       "    <tr>\n",
       "      <th>Price</th>\n",
       "      <td>10</td>\n",
       "      <td>8</td>\n",
       "      <td>12</td>\n",
       "    </tr>\n",
       "  </tbody>\n",
       "</table>\n",
       "</div>"
      ],
      "text/plain": [
       "       Peanut  Almond  Cashew\n",
       "Price      10       8      12"
      ]
     },
     "execution_count": 74,
     "metadata": {},
     "output_type": "execute_result"
    }
   ],
   "source": [
    "prices_df = pd.DataFrame(np.array([10, 8, 12]).reshape(1,3),\n",
    "                        index = ['Price'],\n",
    "                        columns = ['Peanut', 'Almond', 'Cashew'])\n",
    "prices_df"
   ]
  },
  {
   "cell_type": "code",
   "execution_count": 78,
   "id": "accompanied-edinburgh",
   "metadata": {},
   "outputs": [],
   "source": [
    "sales_df['Total'] = np.dot(sales_df, prices_df.T)"
   ]
  },
  {
   "cell_type": "code",
   "execution_count": 79,
   "id": "victorian-baseball",
   "metadata": {},
   "outputs": [
    {
     "data": {
      "text/html": [
       "<div>\n",
       "<style scoped>\n",
       "    .dataframe tbody tr th:only-of-type {\n",
       "        vertical-align: middle;\n",
       "    }\n",
       "\n",
       "    .dataframe tbody tr th {\n",
       "        vertical-align: top;\n",
       "    }\n",
       "\n",
       "    .dataframe thead th {\n",
       "        text-align: right;\n",
       "    }\n",
       "</style>\n",
       "<table border=\"1\" class=\"dataframe\">\n",
       "  <thead>\n",
       "    <tr style=\"text-align: right;\">\n",
       "      <th></th>\n",
       "      <th>Peanut</th>\n",
       "      <th>Almond</th>\n",
       "      <th>Cashew</th>\n",
       "      <th>Total</th>\n",
       "    </tr>\n",
       "  </thead>\n",
       "  <tbody>\n",
       "    <tr>\n",
       "      <th>Mon</th>\n",
       "      <td>12</td>\n",
       "      <td>15</td>\n",
       "      <td>0</td>\n",
       "      <td>240</td>\n",
       "    </tr>\n",
       "    <tr>\n",
       "      <th>Tues</th>\n",
       "      <td>3</td>\n",
       "      <td>3</td>\n",
       "      <td>7</td>\n",
       "      <td>138</td>\n",
       "    </tr>\n",
       "    <tr>\n",
       "      <th>Wed</th>\n",
       "      <td>9</td>\n",
       "      <td>19</td>\n",
       "      <td>18</td>\n",
       "      <td>458</td>\n",
       "    </tr>\n",
       "    <tr>\n",
       "      <th>Thu</th>\n",
       "      <td>4</td>\n",
       "      <td>6</td>\n",
       "      <td>12</td>\n",
       "      <td>232</td>\n",
       "    </tr>\n",
       "    <tr>\n",
       "      <th>Fri</th>\n",
       "      <td>1</td>\n",
       "      <td>6</td>\n",
       "      <td>7</td>\n",
       "      <td>142</td>\n",
       "    </tr>\n",
       "  </tbody>\n",
       "</table>\n",
       "</div>"
      ],
      "text/plain": [
       "      Peanut  Almond  Cashew  Total\n",
       "Mon       12      15       0    240\n",
       "Tues       3       3       7    138\n",
       "Wed        9      19      18    458\n",
       "Thu        4       6      12    232\n",
       "Fri        1       6       7    142"
      ]
     },
     "execution_count": 79,
     "metadata": {},
     "output_type": "execute_result"
    }
   ],
   "source": [
    "sales_df"
   ]
  },
  {
   "cell_type": "markdown",
   "id": "southwest-progress",
   "metadata": {},
   "source": [
    "## Comparision operators "
   ]
  },
  {
   "cell_type": "code",
   "execution_count": 81,
   "id": "governing-notion",
   "metadata": {},
   "outputs": [
    {
     "data": {
      "text/plain": [
       "(array([1, 2, 3]),\n",
       " array([[1, 2, 3],\n",
       "        [4, 5, 6]]),\n",
       " array([False, False, False]),\n",
       " array([[False, False, False],\n",
       "        [False, False,  True]]),\n",
       " array([[ True,  True,  True],\n",
       "        [False, False, False]]))"
      ]
     },
     "execution_count": 81,
     "metadata": {},
     "output_type": "execute_result"
    }
   ],
   "source": [
    "a1, a2, a1 > 5, a2 > 5, a1 == a2"
   ]
  },
  {
   "cell_type": "markdown",
   "id": "local-diesel",
   "metadata": {},
   "source": [
    "## Sorting arrays "
   ]
  },
  {
   "cell_type": "code",
   "execution_count": 84,
   "id": "silver-burns",
   "metadata": {},
   "outputs": [
    {
     "data": {
      "text/plain": [
       "(array([[7, 8, 1, 5],\n",
       "        [9, 8, 9, 4],\n",
       "        [3, 0, 3, 5],\n",
       "        [0, 2, 3, 8]]),\n",
       " array([[1, 5, 7, 8],\n",
       "        [4, 8, 9, 9],\n",
       "        [0, 3, 3, 5],\n",
       "        [0, 2, 3, 8]]))"
      ]
     },
     "execution_count": 84,
     "metadata": {},
     "output_type": "execute_result"
    }
   ],
   "source": [
    "random_array = np.random.randint(10, size= (4, 4))\n",
    "random_array, np.sort(random_array)"
   ]
  },
  {
   "cell_type": "code",
   "execution_count": 87,
   "id": "directed-clear",
   "metadata": {},
   "outputs": [
    {
     "data": {
      "text/plain": [
       "(array([[7, 8, 1, 5],\n",
       "        [9, 8, 9, 4],\n",
       "        [3, 0, 3, 5],\n",
       "        [0, 2, 3, 8]]),\n",
       " array([[2, 3, 0, 1],\n",
       "        [3, 1, 0, 2],\n",
       "        [1, 0, 2, 3],\n",
       "        [0, 1, 2, 3]], dtype=int64))"
      ]
     },
     "execution_count": 87,
     "metadata": {},
     "output_type": "execute_result"
    }
   ],
   "source": [
    "#gives indeces of sorted array\n",
    "random_array, np.argsort(random_array) "
   ]
  },
  {
   "cell_type": "code",
   "execution_count": 91,
   "id": "applicable-glasgow",
   "metadata": {},
   "outputs": [
    {
     "data": {
      "text/plain": [
       "(array([[7, 8, 1, 5],\n",
       "        [9, 8, 9, 4],\n",
       "        [3, 0, 3, 5],\n",
       "        [0, 2, 3, 8]]),\n",
       " 9,\n",
       " 4)"
      ]
     },
     "execution_count": 91,
     "metadata": {},
     "output_type": "execute_result"
    }
   ],
   "source": [
    "# Tranverse while counting the returned number to findout\n",
    "random_array, np.argmin(random_array), np.argmax(random_array)"
   ]
  },
  {
   "cell_type": "code",
   "execution_count": 98,
   "id": "surprising-private",
   "metadata": {},
   "outputs": [
    {
     "data": {
      "text/plain": [
       "(array([[7, 8, 1, 5],\n",
       "        [9, 8, 9, 4],\n",
       "        [3, 0, 3, 5],\n",
       "        [0, 2, 3, 8]]),\n",
       " array([1, 0, 1, 3], dtype=int64),\n",
       " array([1, 0, 3, 3], dtype=int64))"
      ]
     },
     "execution_count": 98,
     "metadata": {},
     "output_type": "execute_result"
    }
   ],
   "source": [
    "# 0 axis >> Column wise transverse, 1 axis >> Row wise transverse \n",
    "np.argmax(random_array, axis = 0), np.argmax(random_array, axis = 1)"
   ]
  },
  {
   "cell_type": "markdown",
   "id": "spare-secretariat",
   "metadata": {},
   "source": [
    "##### Trun images into numpy arrays "
   ]
  },
  {
   "cell_type": "markdown",
   "id": "stainless-banana",
   "metadata": {},
   "source": [
    "<img src = \"./1-black-spiderman.jpg\" />"
   ]
  },
  {
   "cell_type": "code",
   "execution_count": 100,
   "id": "infrared-charge",
   "metadata": {},
   "outputs": [
    {
     "data": {
      "text/plain": [
       "(numpy.ndarray, (320, 240, 3), 230400, 3)"
      ]
     },
     "execution_count": 100,
     "metadata": {},
     "output_type": "execute_result"
    }
   ],
   "source": [
    "from matplotlib.image import imread\n",
    "\n",
    "spidey = imread(\"./1-black-spiderman.jpg\")\n",
    "type(spidey), spidey.shape, spidey.size, spidey.ndim"
   ]
  },
  {
   "cell_type": "markdown",
   "id": "elementary-imperial",
   "metadata": {},
   "source": [
    "<img src = \"./IMG_0046.jpg\" />"
   ]
  },
  {
   "cell_type": "code",
   "execution_count": 105,
   "id": "frequent-listening",
   "metadata": {},
   "outputs": [
    {
     "data": {
      "text/plain": [
       "(1536, 2048, 3)"
      ]
     },
     "execution_count": 105,
     "metadata": {},
     "output_type": "execute_result"
    }
   ],
   "source": [
    "pic = imread(\"./IMG_0046.jpg\")\n",
    "pic.shape"
   ]
  },
  {
   "cell_type": "code",
   "execution_count": null,
   "id": "dominican-opposition",
   "metadata": {},
   "outputs": [],
   "source": []
  }
 ],
 "metadata": {
  "kernelspec": {
   "display_name": "Python 3",
   "language": "python",
   "name": "python3"
  },
  "language_info": {
   "codemirror_mode": {
    "name": "ipython",
    "version": 3
   },
   "file_extension": ".py",
   "mimetype": "text/x-python",
   "name": "python",
   "nbconvert_exporter": "python",
   "pygments_lexer": "ipython3",
   "version": "3.8.8"
  }
 },
 "nbformat": 4,
 "nbformat_minor": 5
}
